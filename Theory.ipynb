{
 "cells": [
  {
   "cell_type": "markdown",
   "id": "77e2d96c",
   "metadata": {},
   "source": [
    "1. List comprhension: Art of making a list form an existing list.\n",
    "Syntax: [i for i in x if \"a\" in i] means [\"Waht do you want\" \"for i n x\" \"condition\"]\n",
    "\n",
    "\n",
    "2. Itertool: A module that provides various functions that work on iterators to produce complex iterators. This module works as a fast, memory-efficient tool that is used either by themselves or in combination to form iterator algebra. "
   ]
  },
  {
   "cell_type": "code",
   "execution_count": null,
   "id": "2c3da640",
   "metadata": {},
   "outputs": [],
   "source": []
  }
 ],
 "metadata": {
  "kernelspec": {
   "display_name": "Python 3",
   "language": "python",
   "name": "python3"
  },
  "language_info": {
   "codemirror_mode": {
    "name": "ipython",
    "version": 3
   },
   "file_extension": ".py",
   "mimetype": "text/x-python",
   "name": "python",
   "nbconvert_exporter": "python",
   "pygments_lexer": "ipython3",
   "version": "3.8.8"
  }
 },
 "nbformat": 4,
 "nbformat_minor": 5
}
