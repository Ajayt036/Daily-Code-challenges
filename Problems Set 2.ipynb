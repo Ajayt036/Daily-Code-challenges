{
 "cells": [
  {
   "cell_type": "markdown",
   "id": "c3b2c11d",
   "metadata": {},
   "source": [
    "### Below Problems cover important functions, logic, and methods to approach a problems. Do regular visit of this file to understand the concepts and have hands on."
   ]
  },
  {
   "cell_type": "markdown",
   "id": "2a3a39bb",
   "metadata": {},
   "source": [
    "Q1. All the built-in functions in the math module of python 3.7 can be found here:\n",
    "https://docs.python.org/3.7/library/math.html\n",
    "\n",
    "    - Create a program that reads two integers, a and b, from the user. \n",
    "    - The quotient when a is divided by b\n",
    "    - The remainder when a is divided by b\n",
    "    - The result of base-10, base-e, and base-2 logarithm of a\n",
    "    - The result of a^b \n",
    "    - The result of e^a"
   ]
  },
  {
   "cell_type": "code",
   "execution_count": 10,
   "id": "53478a34",
   "metadata": {},
   "outputs": [
    {
     "name": "stdout",
     "output_type": "stream",
     "text": [
      "Enter first number4\n",
      "Enter second number3\n",
      "quotient :   1.33\n",
      "remainder:   1.00\n",
      "The base 10 logarithm of 4 is   0.60\n",
      "The base e  logarithm of 4 is   1.39\n",
      "The base 3  logarithm of 4 is   1.26\n",
      "a^b : 64\n",
      "e^a : 54.598150033144236\n"
     ]
    }
   ],
   "source": [
    "a = int(input(\"Enter first number\"))\n",
    "b = int(input(\"Enter second number\"))\n",
    "\n",
    "#Quotient and Remainder\n",
    "print(\"quotient : %6.2f\" % (a/b))\n",
    "print(\"remainder: %6.2f\" % (a%b))\n",
    "\n",
    "\n",
    "\n",
    "#import maths library for log and exp functional\n",
    "from math import log, log10, exp, e\n",
    "#The result of base-10, base-e, and base-2 logarithm of a\n",
    "print (\"The base 10 logarithm of\", a, \"is %6.2f\" % log10(a))\n",
    "print (\"The base e  logarithm of\",a, \"is %6.2f\" % log(a))\n",
    "print (\"The base \"+str(b)+\"  logarithm of\",a, \"is %6.2f\" % log(a,b))\n",
    "\n",
    "\n",
    "#Power and exponential\n",
    "print(\"a^b :\", pow(a,b))\n",
    "print(\"e^a :\", exp(a))\n"
   ]
  },
  {
   "cell_type": "markdown",
   "id": "465fc6a6",
   "metadata": {},
   "source": [
    "Q2. What is the use of **\"%6.2f\"** Command. Give Example."
   ]
  },
  {
   "cell_type": "code",
   "execution_count": 11,
   "id": "98e8cc5d",
   "metadata": {},
   "outputs": [
    {
     "name": "stdout",
     "output_type": "stream",
     "text": [
      "Usual Output:\n",
      "5\n",
      "1.11\n",
      "Clean Output:\n",
      "5.00\n",
      "1.11\n"
     ]
    }
   ],
   "source": [
    "#It is a command to writre float in a clean manner in out put. it indicated 6 spaces in beginning and upto 2 decimal\n",
    "#For Example :-\n",
    "\n",
    "x = 5\n",
    "y = 1.11\n",
    "\n",
    "print(\"Usual Output:\")\n",
    "print(x)\n",
    "print(y)\n",
    "\n",
    "\n",
    "#Cleanl output of x and y using 6.2f\n",
    "print(\"Clean Output:\")\n",
    "print (\"%1.2f\" % x)  \n",
    "print (\"%1.2f\" % y)"
   ]
  },
  {
   "cell_type": "markdown",
   "id": "a0642035",
   "metadata": {},
   "source": [
    "Q3. A bakery sells loaves of bread for 3.49 each. Day old bread is discounted by 60%. This program begins by reading the number of loaves of day-old bread purchased from the user. Then the program display the regular price, the discount, and the total price. All the values should be displayed using two decimal places, and the decimal points in all the numbers should be aligned when reasonable values are entered by the user."
   ]
  },
  {
   "cell_type": "code",
   "execution_count": 12,
   "id": "e6129fdf",
   "metadata": {},
   "outputs": [
    {
     "name": "stdout",
     "output_type": "stream",
     "text": [
      "Enter the number of loaves you want to buy: 3\n",
      "Regular Price:  10.47\n",
      "Discount:        1.80\n",
      "Total Price:     8.67\n"
     ]
    }
   ],
   "source": [
    "loaf_Price = 3.49\n",
    "Discount_rate = 0.60\n",
    "loaves = int(input(\"Enter the number of loaves you want to buy: \"))\n",
    "\n",
    "Regular_Price = loaf_Price*loaves\n",
    "Discount  = Discount_rate*loaves\n",
    "Total_Price = Regular_Price - Discount\n",
    "\n",
    "\n",
    "print(\"Regular Price: %6.2f\" % Regular_Price)  #\"6.2f helps in woritng float in a clean way vertically\"\n",
    "print(\"Discount:      %6.2f\" % Discount)\n",
    "print(\"Total Price:   %6.2f\" % Total_Price)"
   ]
  },
  {
   "cell_type": "markdown",
   "id": "6effaabd",
   "metadata": {},
   "source": [
    "Q4. This program reads a letter of the alphabet from the user. If the user enters something other than a letter, the program displays an error message. If the user enters 'a, 'e', 'i', 'o', 'u', 'A', 'E', 'I', 'O', or 'U', the program displays a message indicating that the letter enters is a vowel. If the user enters 'y' or 'Y', the program should display a message indicating that sometimes y is a vowel, and sometimes y is a consonant. Otherwise, display a message indicating that the letter is a consonant.\n",
    "\n",
    "Remark: Make use of string.ascii_lowercase, string.ascii_uppercase, or string.letters from the string module\n",
    "\n",
    "Remark: Use \"in\" operator in Python. For example, \"x\" in \"xyz\" is True; \"X\" in \"xyz\" is False.\n",
    "\n",
    "Remark: It is always a good idea to check the Python (2.7) documentation at: https://docs.python.org/2/library/index.html"
   ]
  },
  {
   "cell_type": "code",
   "execution_count": 14,
   "id": "53935edb",
   "metadata": {},
   "outputs": [
    {
     "name": "stdout",
     "output_type": "stream",
     "text": [
      "Please enter a letter from the alphabet: r\n",
      "r is a consonant\n"
     ]
    }
   ],
   "source": [
    "#We can import string library which has all the string stored: In lower case, Upper case and both\n",
    "\n",
    "import string\n",
    "alphabet = string.ascii_letters\n",
    "\n",
    "vowels = \"aeiouAEIOU\"\n",
    "\n",
    "\n",
    "letter = input(\"Please enter a letter from the alphabet: \")\n",
    "if letter not in alphabet:\n",
    "    print(\"Incorrrect Input Given\")\n",
    "elif letter in vowels:\n",
    "    print(letter, \"is a vowel\")\n",
    "elif letter == 'y' or letter ==\"Y\":\n",
    "    print (\"sometimes\", letter, \"is a vowel, and sometimes\", letter, \"is a consonant.\")\n",
    "else:\n",
    "    print(letter,\"is a consonant\")\n",
    "\n",
    "    "
   ]
  },
  {
   "cell_type": "markdown",
   "id": "9359445d",
   "metadata": {},
   "source": [
    "Q5. Write a short Python function that counts the number of vowels in a given character string."
   ]
  },
  {
   "cell_type": "code",
   "execution_count": 15,
   "id": "c1f72ba4",
   "metadata": {},
   "outputs": [
    {
     "name": "stdout",
     "output_type": "stream",
     "text": [
      "Please enter a word: Python\n",
      "Total Vowels:  1\n"
     ]
    }
   ],
   "source": [
    "import string\n",
    "alphabet = string.ascii_letters\n",
    "\n",
    "vowels = \"aeiouAEIOU\"\n",
    "letter = input(\"Please enter a word: \")\n",
    "count = 0\n",
    "for i in letter:\n",
    "    if i in vowels:\n",
    "        count +=1\n",
    "    else:\n",
    "        pass\n",
    "print(\"Total Vowels: \",count)\n"
   ]
  },
  {
   "cell_type": "markdown",
   "id": "855ca238",
   "metadata": {},
   "source": [
    "Q6. A particular retailer is having a 60% off sale on a variety of discontinued products.\n",
    "- The retailer would like to help its customers determine the reduced price of the merchandise by having a printed discount table on the shelf that shows the original prices and the prices after the discount has been applied.\n",
    "- Write a program that uses a loop to generate this table, showing the original price, the discount amount, and the new price for purchases of:\n",
    "<br>\n",
    "4.95, 9.95, 14.95, 19.95, and 24.95\n",
    "- Ensure that the discount amounts and the new prices are rounded to 2 decimal places when they are displayed.\n",
    "\n",
    "\n",
    "\n"
   ]
  },
  {
   "cell_type": "code",
   "execution_count": 16,
   "id": "7c6b623b",
   "metadata": {},
   "outputs": [
    {
     "name": "stdout",
     "output_type": "stream",
     "text": [
      "original price   Discount price   new price\n",
      "        4.95         2.97         1.98\n",
      "        9.95         5.97         3.98\n",
      "       14.95         8.97         5.98\n",
      "       19.95        11.97         7.98\n",
      "       24.95        14.97         9.98\n",
      "original price   discount price   new price\n",
      "        4.95         2.97         1.98\n",
      "        9.95         5.97         3.98\n",
      "       14.95         8.97         5.98\n",
      "       19.95        11.97         7.98\n",
      "       24.95        14.97         9.98\n"
     ]
    }
   ],
   "source": [
    "#First Method:\n",
    "Original_Price = [4.95, 9.95, 14.95, 19.95, 24.95]\n",
    "Discount_rate = 0.60\n",
    "\n",
    "print (\"original price \",\" Discount price \",\" new price\")\n",
    "\n",
    "for i in Original_Price:\n",
    "    Discount = Discount_rate*i\n",
    "    New_Price= (1-Discount_rate)*i\n",
    "    print(\"%12.2f\" % i ,\"%12.2f\" % Discount, \"%12.2f\" % New_Price)\n",
    "    \n",
    "    \n",
    "    \n",
    "#Second Method:\n",
    "Price_List= [4.95,9.95, 14.95,19.95,24.95]\n",
    "Discount = 0.6\n",
    "j=0\n",
    "print (\"original price \",\" discount price \",\" new price\")\n",
    "\n",
    "while j < len(Price_List) :\n",
    "    Dis_Amount=Price_List[j] * Discount\n",
    "    new_price=Price_List[j]-Dis_Amount\n",
    "    print (\"%12.2f\"%Price_List[j],\"%12.2f\"%Dis_Amount,\"%12.2f\"%new_price )\n",
    "    j+=1\n"
   ]
  },
  {
   "cell_type": "markdown",
   "id": "5ac65ac5",
   "metadata": {},
   "source": [
    "Q7. A string is a palindrome if it is identical forward and backward. For example \"anna\", \"civic\", \"level\" and \"hannah\" are all examples of palindromic words. Write a program that reads a string from the user and uses a loop to determine whether or not it is a palindrome. \n",
    "\n",
    "- Write program using both while and for Loop\n"
   ]
  },
  {
   "cell_type": "code",
   "execution_count": 17,
   "id": "6cc3e2a7",
   "metadata": {},
   "outputs": [
    {
     "name": "stdout",
     "output_type": "stream",
     "text": [
      "Please enter a word: Python\n",
      "Python is not a palindrome.\n",
      "Python is not a palindrome.\n"
     ]
    }
   ],
   "source": [
    "#WHILE LOOP:\n",
    "word = input(\"Please enter a word: \")\n",
    "i = 0\n",
    "while i < int(len(word)/2):  # just need to check whether the first half matches the second half.\n",
    "    if word.lower()[i] != word.lower()[-1-i]: # not case-sensitive\n",
    "        print (word, \"is not a palindrome.\")        \n",
    "        break # get out of the loop and done\n",
    "    else:\n",
    "        i+=1 # check the next one\n",
    "    if i == int(len(word)/2):  \n",
    "        print (word, \"is a palindrome.\")\n",
    "        \n",
    "        \n",
    "#USING FOR LOOP\n",
    "for i in range(int(len(word)/2)):\n",
    "    if word.lower()[i] != word.lower()[-1-i]:\n",
    "        print (word, \"is not a palindrome.\")\n",
    "        break\n",
    "    elif i==int(len(word)/2)-1:\n",
    "        print (word, \"is a palindrome.\")\n",
    "    "
   ]
  },
  {
   "cell_type": "markdown",
   "id": "2cc08cbb",
   "metadata": {},
   "source": [
    "Q8. Write a short Python Function, is_multiple(n, m), that takes two integer values and returns True if n is a multiple of m, that is n=mi for some integer i. And False otherwise.\n",
    "\n",
    "In below, you will see three ways."
   ]
  },
  {
   "cell_type": "code",
   "execution_count": 18,
   "id": "49b5bbc0",
   "metadata": {},
   "outputs": [
    {
     "name": "stdout",
     "output_type": "stream",
     "text": [
      "type in an integer: 3\n",
      "type in an integer: 3\n",
      "Is 3 multiple of 3 ?\n",
      " True\n"
     ]
    }
   ],
   "source": [
    "def is_multiple(n,m):\n",
    "    if n%m ==0:\n",
    "        return True\n",
    "    else:\n",
    "        return False\n",
    "\n",
    "#Lets make another function to call this function - to learnnested function \n",
    "def main():\n",
    "    i=int(input(\"type in an integer: \"))\n",
    "    j=int(input(\"type in an integer: \"))\n",
    "    print (\"Is %d multiple of\"%i,\"%d\"%j,\"?\\n\",is_multiple(i,j))\n",
    "\n",
    "main()\n",
    "    "
   ]
  },
  {
   "cell_type": "markdown",
   "id": "7ffc4860",
   "metadata": {},
   "source": [
    "Q9. What is a Module? What happens if i import one module in a new different python file?"
   ]
  },
  {
   "cell_type": "code",
   "execution_count": 78,
   "id": "7f35bb93",
   "metadata": {},
   "outputs": [],
   "source": [
    "#In Python, Modules are simply files with the “. py” extension containing Python code that can be...\n",
    "#imported inside another Python Program. In simple terms, we can consider a module to be the  same...\n",
    "#as a code library or a file that contains a set of functions that you want to include in your application.\n",
    "\n",
    "\n",
    "\n",
    "#If you import  .py file (also called module) in an new file, then new file will run all the functions saved in...\n",
    "#your module.\n",
    "#Command print(__name__) shows the module you are using in your new file, If you have not imported any, it shows...\n",
    "#__ main__ as result b y default\n",
    "\n",
    "\n",
    "#Explanation: https://www.youtube.com/watch?v=pzNISmtmzcY"
   ]
  },
  {
   "cell_type": "markdown",
   "id": "2e05ab93",
   "metadata": {},
   "source": [
    "Q10. What is __ name __ ?"
   ]
  },
  {
   "cell_type": "code",
   "execution_count": 72,
   "id": "ffb02618",
   "metadata": {},
   "outputs": [
    {
     "name": "stdout",
     "output_type": "stream",
     "text": [
      "File is being run directly\n"
     ]
    }
   ],
   "source": [
    "#__name__ is a built-in variable which evaluates to the name of the current module. Thus it can be...\n",
    "#used to check whether the current script is being run on its own or being imported somewhere else...\n",
    "#by combining it with if statement\n",
    "\n",
    "if __name__ == \"__main__\": \n",
    "    print (\"File is being run directly\")\n",
    "else: \n",
    "    print (\"File is being imported\")\n",
    "#Because this does not have any impotred .py file in it, Ans is \"File1 is being run directly\""
   ]
  },
  {
   "cell_type": "markdown",
   "id": "73c3be51",
   "metadata": {},
   "source": [
    "Q11. what if i dont want a new file to automatically run my function inside a module after importing a module?"
   ]
  },
  {
   "cell_type": "code",
   "execution_count": 96,
   "id": "53a0f829",
   "metadata": {},
   "outputs": [
    {
     "name": "stdout",
     "output_type": "stream",
     "text": [
      "This works\n",
      "Ok! Its working because there is no inported modeule in this file\n",
      "If i had imported a module here, I would not see these lines\n"
     ]
    }
   ],
   "source": [
    "#Follow these steps:\n",
    "#We know new file's __name__ = \"Module name\" after importing and \"__ main__\" without import. so use it.\n",
    "\n",
    "# 1. Create a new function  main() in module and put all functions which you dont want to autimaticall run in new file\n",
    "def main(): #You can name anythin else also insted of main\n",
    "    print(\"This works\")\n",
    "    print(\"Ok! Its working because there is no inported modeule in this file\")\n",
    "    print(\"If i had imported a module here, I would not see these lines\")\n",
    "\n",
    "if __name__ == \"__main__\":\n",
    "    main()\n",
    "    \n",
    "\n",
    "#If somebody needs to call these functions in new different file:\n",
    "#simpy use module.main() because we have already created main function.\n",
    "    \n",
    "#Source : https://www.youtube.com/watch?v=pzNISmtmzcY"
   ]
  },
  {
   "cell_type": "markdown",
   "id": "5ba1e660",
   "metadata": {},
   "source": [
    "Q12. In a particular jurisdiction, taxi fares consist of a base fare of  4.00, + 0.25 for every 140 meters traveled. Write a function that takes the distance traveled (in kilometers) as its only parameter and returns to total fare as its only result. Write a main program that demonstrates the function.\n",
    "\n",
    "Taxi fares change over time. Use constants to represent the base fare and the variable portion of the fare so that the program can be updated easily when the rates increase."
   ]
  },
  {
   "cell_type": "code",
   "execution_count": 131,
   "id": "54f272eb",
   "metadata": {},
   "outputs": [
    {
     "name": "stdout",
     "output_type": "stream",
     "text": [
      "Enter you traveled distance in KM: 5.6\n",
      "Total Price for your travelend distance: 14.00\n"
     ]
    }
   ],
   "source": [
    "base_fare = 4\n",
    "var_fare_per_meter = 0.25/140\n",
    "\n",
    "def price(distance):\n",
    "    Total_Price = base_fare + var_fare_per_meter*(distance*1000)\n",
    "    return  Total_Price\n",
    "\n",
    "def main():\n",
    "    distance = float(input(\"Enter you traveled distance in KM: \"))\n",
    "    print ('Total Price for your travelend distance: %2.2f' % price(distance))\n",
    "\n",
    "if __name__ == \"__main__\":  #Checking if this function is callablke in other file\n",
    "    main()\n",
    "                \n",
    "#Above written function is enough to get the output, but we will make one more main function to cross check if this...\n",
    "#can be called in other function.\n",
    "\n"
   ]
  },
  {
   "cell_type": "markdown",
   "id": "403b7c48",
   "metadata": {},
   "source": [
    "Q13. Write a program that reads integers from the user and stores them in a list. Your program should continue reading values until the user enters 0. Then it should display all of the values entered (except for the 0) in order from smallest to largest, with one value appearing on each line."
   ]
  },
  {
   "cell_type": "code",
   "execution_count": 251,
   "id": "b32b289c",
   "metadata": {},
   "outputs": [
    {
     "name": "stdout",
     "output_type": "stream",
     "text": [
      "Enter a digit: 23\n",
      "Enter a digit: 07\n",
      "Enter a digit: 1994\n",
      "Enter a digit: 0\n",
      "Your Non-Zero List:\n",
      "        23\n",
      "         7\n",
      "      1994\n"
     ]
    }
   ],
   "source": [
    "z=[]\n",
    "digit = int(input(\"Enter a digit: \"))\n",
    "while digit != 0:\n",
    "    z.append(digit)\n",
    "    digit = int(input(\"Enter a digit: \"))\n",
    "\n",
    "print(\"Your Non-Zero List:\")\n",
    "for i in z:\n",
    "    print(\"%10i\"% i)\n"
   ]
  },
  {
   "cell_type": "markdown",
   "id": "3bf8bb15",
   "metadata": {},
   "source": [
    "Q14. Update a given library w={\"house\":\"Haus\",\"cat\":\"Katze\",\"red\":\"rot\"} with new values \n",
    "- \"red\":\"rouge\",\"blau\":\"bleu\""
   ]
  },
  {
   "cell_type": "code",
   "execution_count": 255,
   "id": "27c5ad73",
   "metadata": {},
   "outputs": [
    {
     "name": "stdout",
     "output_type": "stream",
     "text": [
      "{'house': 'Haus', 'cat': 'Katze', 'red': 'rouge', 'blau': 'bleu'}\n"
     ]
    }
   ],
   "source": [
    "w={\"house\":\"Haus\",\"cat\":\"Katze\",\"red\":\"rot\"}\n",
    "w1 = {\"red\":\"rouge\",\"blau\":\"bleu\"}\n",
    "w.update(w1)  #update function is also used to add new value\n",
    "print(w)"
   ]
  },
  {
   "cell_type": "markdown",
   "id": "e0f60d6f",
   "metadata": {},
   "source": [
    "Q15. Use Zip to make a dictornary out of two lists:\n",
    "    - dishes = [\"pizza\", \"sauerkraut\", \"paella\", \"Hamburger\"]\n",
    "    - countries = [\"Italy\", \"Germany\", \"Spain\", \"USA\"]\n",
    "    "
   ]
  },
  {
   "cell_type": "code",
   "execution_count": 258,
   "id": "c25bd808",
   "metadata": {},
   "outputs": [
    {
     "name": "stdout",
     "output_type": "stream",
     "text": [
      "{'Italy': 'pizza', 'Germany': 'sauerkraut', 'Spain': 'paella', 'USA': 'Hamburger'}\n"
     ]
    }
   ],
   "source": [
    "dishes = [\"pizza\", \"sauerkraut\", \"paella\", \"Hamburger\"]\n",
    "countries = [\"Italy\", \"Germany\", \"Spain\", \"USA\"]\n",
    "country_specialities = dict(zip(countries, dishes))\n",
    "print(country_specialities)"
   ]
  },
  {
   "cell_type": "markdown",
   "id": "cd00cf43",
   "metadata": {},
   "source": [
    "Q16. Write a function named reverseLookup that finds all of the keys in a dictionary that map to a specific value.\n",
    "\n",
    "The function will take the dictionary and the value to search for as its only parameters. It will return a (possibly empty) list of keys from the dictionary that map to the provided value.\n",
    "\n",
    "Include a main program that demonstrates the reverseLookup function as part of your solution.\n",
    "Your program should create a dictionary and then show that the reverseLookup function works correctly \n",
    "In the main program, implement the following:\n",
    "\n",
    "- Assuming you have 15 students aged from 5 to 12, it's possible that several students share the same age. To make it easy, they are named from 'A' to 'O'.Create a dictionary with the names as the keys, and the ages are the values. Randomly generate an age from 5 tp 12 (including 12) and assign that to each student."
   ]
  },
  {
   "cell_type": "code",
   "execution_count": 93,
   "id": "e4d51442",
   "metadata": {},
   "outputs": [
    {
     "name": "stdout",
     "output_type": "stream",
     "text": [
      "Names in the dictionary for key  5 are:  ['G', 'H', 'K', 'L']\n",
      "Names in the dictionary for key  6 are:  []\n",
      "Names in the dictionary for key  7 are:  ['N']\n",
      "Names in the dictionary for key  8 are:  ['B', 'D', 'E', 'M']\n",
      "Names in the dictionary for key  9 are:  ['O']\n",
      "Names in the dictionary for key  10 are:  []\n",
      "Names in the dictionary for key  11 are:  ['A', 'C', 'F', 'I']\n",
      "Names in the dictionary for key  12 are:  ['J']\n"
     ]
    }
   ],
   "source": [
    "#Lets First make a function which takes a dictionary and va;ue to scan value in dict to give its key\n",
    "\n",
    "def reverselookup(ndict, value):\n",
    "    names = []\n",
    "    for key in ndict:\n",
    "        if ndict[key] == value:\n",
    "            names.append(key)\n",
    "    return names\n",
    "\n",
    "#Now lets put inputs and abpve function in main function\n",
    "def main():\n",
    "    import random\n",
    "    names = \"ABCDEFGHIJKLMNO\"\n",
    "    age = random.choices(range(5,13),k=15) #Random number selection with repitition\n",
    "    ndict = dict(zip(names,age))\n",
    "   \n",
    "    for i in list(range(5,13)):\n",
    "        print(\"Names in the dictionary for key \",i,\"are: \", reverselookup(ndict, i))\n",
    "        \n",
    "if __name__ == \"__main__\":\n",
    "    main()         \n"
   ]
  }
 ],
 "metadata": {
  "kernelspec": {
   "display_name": "Python 3 (ipykernel)",
   "language": "python",
   "name": "python3"
  },
  "language_info": {
   "codemirror_mode": {
    "name": "ipython",
    "version": 3
   },
   "file_extension": ".py",
   "mimetype": "text/x-python",
   "name": "python",
   "nbconvert_exporter": "python",
   "pygments_lexer": "ipython3",
   "version": "3.8.8"
  }
 },
 "nbformat": 4,
 "nbformat_minor": 5
}
