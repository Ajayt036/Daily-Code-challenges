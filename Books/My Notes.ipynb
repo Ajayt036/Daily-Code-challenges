{
 "cells": [
  {
   "cell_type": "markdown",
   "id": "8553237e",
   "metadata": {},
   "source": [
    "### Below are my therotical notes from the reading materials i used to build my fondation of Python language"
   ]
  },
  {
   "cell_type": "markdown",
   "id": "9c0742fb",
   "metadata": {},
   "source": [
    "## Python For Data Analysis: Chapter 4: NumPy"
   ]
  },
  {
   "cell_type": "code",
   "execution_count": null,
   "id": "a700372e",
   "metadata": {},
   "outputs": [],
   "source": [
    "1. NumPy is Numerical Python.\n"
   ]
  }
 ],
 "metadata": {
  "kernelspec": {
   "display_name": "Python 3 (ipykernel)",
   "language": "python",
   "name": "python3"
  },
  "language_info": {
   "codemirror_mode": {
    "name": "ipython",
    "version": 3
   },
   "file_extension": ".py",
   "mimetype": "text/x-python",
   "name": "python",
   "nbconvert_exporter": "python",
   "pygments_lexer": "ipython3",
   "version": "3.8.8"
  }
 },
 "nbformat": 4,
 "nbformat_minor": 5
}
