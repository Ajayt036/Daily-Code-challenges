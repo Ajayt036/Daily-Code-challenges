{
 "cells": [
  {
   "cell_type": "markdown",
   "id": "fb816176",
   "metadata": {},
   "source": [
    "### Analytic Oriented Pandas Functions:"
   ]
  },
  {
   "cell_type": "code",
   "execution_count": 18,
   "id": "a64d4409",
   "metadata": {},
   "outputs": [],
   "source": [
    "import pandas as pd"
   ]
  },
  {
   "cell_type": "markdown",
   "id": "a7bb5bfa",
   "metadata": {},
   "source": [
    "## Data Frame"
   ]
  },
  {
   "cell_type": "markdown",
   "id": "19e7f065",
   "metadata": {},
   "source": [
    "1. Create a Manual Data Frame"
   ]
  },
  {
   "cell_type": "code",
   "execution_count": 19,
   "id": "c0058394",
   "metadata": {},
   "outputs": [
    {
     "data": {
      "text/html": [
       "<div>\n",
       "<style scoped>\n",
       "    .dataframe tbody tr th:only-of-type {\n",
       "        vertical-align: middle;\n",
       "    }\n",
       "\n",
       "    .dataframe tbody tr th {\n",
       "        vertical-align: top;\n",
       "    }\n",
       "\n",
       "    .dataframe thead th {\n",
       "        text-align: right;\n",
       "    }\n",
       "</style>\n",
       "<table border=\"1\" class=\"dataframe\">\n",
       "  <thead>\n",
       "    <tr style=\"text-align: right;\">\n",
       "      <th></th>\n",
       "      <th>state</th>\n",
       "      <th>year</th>\n",
       "      <th>pop</th>\n",
       "    </tr>\n",
       "  </thead>\n",
       "  <tbody>\n",
       "    <tr>\n",
       "      <th>0</th>\n",
       "      <td>Ohio</td>\n",
       "      <td>2000</td>\n",
       "      <td>1.5</td>\n",
       "    </tr>\n",
       "    <tr>\n",
       "      <th>1</th>\n",
       "      <td>Ohio</td>\n",
       "      <td>2001</td>\n",
       "      <td>1.7</td>\n",
       "    </tr>\n",
       "    <tr>\n",
       "      <th>2</th>\n",
       "      <td>Ohio</td>\n",
       "      <td>2002</td>\n",
       "      <td>3.6</td>\n",
       "    </tr>\n",
       "    <tr>\n",
       "      <th>3</th>\n",
       "      <td>Nevada</td>\n",
       "      <td>2001</td>\n",
       "      <td>2.4</td>\n",
       "    </tr>\n",
       "    <tr>\n",
       "      <th>4</th>\n",
       "      <td>Nevada</td>\n",
       "      <td>2002</td>\n",
       "      <td>2.9</td>\n",
       "    </tr>\n",
       "    <tr>\n",
       "      <th>5</th>\n",
       "      <td>Nevada</td>\n",
       "      <td>2003</td>\n",
       "      <td>3.2</td>\n",
       "    </tr>\n",
       "  </tbody>\n",
       "</table>\n",
       "</div>"
      ],
      "text/plain": [
       "    state  year  pop\n",
       "0    Ohio  2000  1.5\n",
       "1    Ohio  2001  1.7\n",
       "2    Ohio  2002  3.6\n",
       "3  Nevada  2001  2.4\n",
       "4  Nevada  2002  2.9\n",
       "5  Nevada  2003  3.2"
      ]
     },
     "execution_count": 19,
     "metadata": {},
     "output_type": "execute_result"
    }
   ],
   "source": [
    "data = {'state': ['Ohio', 'Ohio', 'Ohio', 'Nevada', 'Nevada', 'Nevada'],\n",
    "        'year': [2000, 2001, 2002, 2001, 2002, 2003],\n",
    "        'pop': [1.5, 1.7, 3.6, 2.4, 2.9, 3.2]}\n",
    "frame = pd.DataFrame(data)\n",
    "frame\n",
    "#A data frame has always an assigned "
   ]
  },
  {
   "cell_type": "markdown",
   "id": "de15fa96",
   "metadata": {},
   "source": [
    "2. Arrane the column of the avove data frame in given order: Year> Sate> Pop and what happends in a column in not in the table"
   ]
  },
  {
   "cell_type": "code",
   "execution_count": 20,
   "id": "748a3745",
   "metadata": {},
   "outputs": [
    {
     "data": {
      "text/html": [
       "<div>\n",
       "<style scoped>\n",
       "    .dataframe tbody tr th:only-of-type {\n",
       "        vertical-align: middle;\n",
       "    }\n",
       "\n",
       "    .dataframe tbody tr th {\n",
       "        vertical-align: top;\n",
       "    }\n",
       "\n",
       "    .dataframe thead th {\n",
       "        text-align: right;\n",
       "    }\n",
       "</style>\n",
       "<table border=\"1\" class=\"dataframe\">\n",
       "  <thead>\n",
       "    <tr style=\"text-align: right;\">\n",
       "      <th></th>\n",
       "      <th>year</th>\n",
       "      <th>state</th>\n",
       "      <th>pop</th>\n",
       "    </tr>\n",
       "  </thead>\n",
       "  <tbody>\n",
       "    <tr>\n",
       "      <th>0</th>\n",
       "      <td>2000</td>\n",
       "      <td>Ohio</td>\n",
       "      <td>1.5</td>\n",
       "    </tr>\n",
       "    <tr>\n",
       "      <th>1</th>\n",
       "      <td>2001</td>\n",
       "      <td>Ohio</td>\n",
       "      <td>1.7</td>\n",
       "    </tr>\n",
       "    <tr>\n",
       "      <th>2</th>\n",
       "      <td>2002</td>\n",
       "      <td>Ohio</td>\n",
       "      <td>3.6</td>\n",
       "    </tr>\n",
       "    <tr>\n",
       "      <th>3</th>\n",
       "      <td>2001</td>\n",
       "      <td>Nevada</td>\n",
       "      <td>2.4</td>\n",
       "    </tr>\n",
       "    <tr>\n",
       "      <th>4</th>\n",
       "      <td>2002</td>\n",
       "      <td>Nevada</td>\n",
       "      <td>2.9</td>\n",
       "    </tr>\n",
       "    <tr>\n",
       "      <th>5</th>\n",
       "      <td>2003</td>\n",
       "      <td>Nevada</td>\n",
       "      <td>3.2</td>\n",
       "    </tr>\n",
       "  </tbody>\n",
       "</table>\n",
       "</div>"
      ],
      "text/plain": [
       "   year   state  pop\n",
       "0  2000    Ohio  1.5\n",
       "1  2001    Ohio  1.7\n",
       "2  2002    Ohio  3.6\n",
       "3  2001  Nevada  2.4\n",
       "4  2002  Nevada  2.9\n",
       "5  2003  Nevada  3.2"
      ]
     },
     "execution_count": 20,
     "metadata": {},
     "output_type": "execute_result"
    }
   ],
   "source": [
    "pd.DataFrame(data, columns=['year', 'state', 'pop'])\n",
    "\n",
    "#If a column is not in the table. The column will appear wilth \"Nan\" Values"
   ]
  },
  {
   "cell_type": "markdown",
   "id": "5c73efe4",
   "metadata": {},
   "source": [
    "3. Retrieve 2nd row from table using **loc** command"
   ]
  },
  {
   "cell_type": "code",
   "execution_count": 21,
   "id": "ec627f7b",
   "metadata": {},
   "outputs": [
    {
     "data": {
      "text/plain": [
       "state    Ohio\n",
       "year     2001\n",
       "pop       1.7\n",
       "Name: 1, dtype: object"
      ]
     },
     "execution_count": 21,
     "metadata": {},
     "output_type": "execute_result"
    }
   ],
   "source": [
    "#Pick any rows using loc with index value such as index = 1 for 2nd row\n",
    "\n",
    "frame.loc[1]"
   ]
  },
  {
   "cell_type": "markdown",
   "id": "fae05517",
   "metadata": {},
   "source": [
    "4. Add a new boolean column w.r.t to a column in table"
   ]
  },
  {
   "cell_type": "code",
   "execution_count": 22,
   "id": "aa5b3be3",
   "metadata": {},
   "outputs": [
    {
     "data": {
      "text/html": [
       "<div>\n",
       "<style scoped>\n",
       "    .dataframe tbody tr th:only-of-type {\n",
       "        vertical-align: middle;\n",
       "    }\n",
       "\n",
       "    .dataframe tbody tr th {\n",
       "        vertical-align: top;\n",
       "    }\n",
       "\n",
       "    .dataframe thead th {\n",
       "        text-align: right;\n",
       "    }\n",
       "</style>\n",
       "<table border=\"1\" class=\"dataframe\">\n",
       "  <thead>\n",
       "    <tr style=\"text-align: right;\">\n",
       "      <th></th>\n",
       "      <th>state</th>\n",
       "      <th>year</th>\n",
       "      <th>pop</th>\n",
       "      <th>Boolean</th>\n",
       "    </tr>\n",
       "  </thead>\n",
       "  <tbody>\n",
       "    <tr>\n",
       "      <th>0</th>\n",
       "      <td>Ohio</td>\n",
       "      <td>2000</td>\n",
       "      <td>1.5</td>\n",
       "      <td>True</td>\n",
       "    </tr>\n",
       "    <tr>\n",
       "      <th>1</th>\n",
       "      <td>Ohio</td>\n",
       "      <td>2001</td>\n",
       "      <td>1.7</td>\n",
       "      <td>True</td>\n",
       "    </tr>\n",
       "    <tr>\n",
       "      <th>2</th>\n",
       "      <td>Ohio</td>\n",
       "      <td>2002</td>\n",
       "      <td>3.6</td>\n",
       "      <td>True</td>\n",
       "    </tr>\n",
       "    <tr>\n",
       "      <th>3</th>\n",
       "      <td>Nevada</td>\n",
       "      <td>2001</td>\n",
       "      <td>2.4</td>\n",
       "      <td>False</td>\n",
       "    </tr>\n",
       "    <tr>\n",
       "      <th>4</th>\n",
       "      <td>Nevada</td>\n",
       "      <td>2002</td>\n",
       "      <td>2.9</td>\n",
       "      <td>False</td>\n",
       "    </tr>\n",
       "    <tr>\n",
       "      <th>5</th>\n",
       "      <td>Nevada</td>\n",
       "      <td>2003</td>\n",
       "      <td>3.2</td>\n",
       "      <td>False</td>\n",
       "    </tr>\n",
       "  </tbody>\n",
       "</table>\n",
       "</div>"
      ],
      "text/plain": [
       "    state  year  pop  Boolean\n",
       "0    Ohio  2000  1.5     True\n",
       "1    Ohio  2001  1.7     True\n",
       "2    Ohio  2002  3.6     True\n",
       "3  Nevada  2001  2.4    False\n",
       "4  Nevada  2002  2.9    False\n",
       "5  Nevada  2003  3.2    False"
      ]
     },
     "execution_count": 22,
     "metadata": {},
     "output_type": "execute_result"
    }
   ],
   "source": [
    "frame[\"Boolean\"] = frame[\"state\"] == \"Ohio\"\n",
    "frame"
   ]
  },
  {
   "cell_type": "markdown",
   "id": "b2f4e704",
   "metadata": {},
   "source": [
    "5. Delete the boolean column from above table"
   ]
  },
  {
   "cell_type": "code",
   "execution_count": 23,
   "id": "2fc0e1eb",
   "metadata": {},
   "outputs": [
    {
     "data": {
      "text/html": [
       "<div>\n",
       "<style scoped>\n",
       "    .dataframe tbody tr th:only-of-type {\n",
       "        vertical-align: middle;\n",
       "    }\n",
       "\n",
       "    .dataframe tbody tr th {\n",
       "        vertical-align: top;\n",
       "    }\n",
       "\n",
       "    .dataframe thead th {\n",
       "        text-align: right;\n",
       "    }\n",
       "</style>\n",
       "<table border=\"1\" class=\"dataframe\">\n",
       "  <thead>\n",
       "    <tr style=\"text-align: right;\">\n",
       "      <th></th>\n",
       "      <th>state</th>\n",
       "      <th>year</th>\n",
       "      <th>pop</th>\n",
       "    </tr>\n",
       "  </thead>\n",
       "  <tbody>\n",
       "    <tr>\n",
       "      <th>0</th>\n",
       "      <td>Ohio</td>\n",
       "      <td>2000</td>\n",
       "      <td>1.5</td>\n",
       "    </tr>\n",
       "    <tr>\n",
       "      <th>1</th>\n",
       "      <td>Ohio</td>\n",
       "      <td>2001</td>\n",
       "      <td>1.7</td>\n",
       "    </tr>\n",
       "    <tr>\n",
       "      <th>2</th>\n",
       "      <td>Ohio</td>\n",
       "      <td>2002</td>\n",
       "      <td>3.6</td>\n",
       "    </tr>\n",
       "    <tr>\n",
       "      <th>3</th>\n",
       "      <td>Nevada</td>\n",
       "      <td>2001</td>\n",
       "      <td>2.4</td>\n",
       "    </tr>\n",
       "    <tr>\n",
       "      <th>4</th>\n",
       "      <td>Nevada</td>\n",
       "      <td>2002</td>\n",
       "      <td>2.9</td>\n",
       "    </tr>\n",
       "    <tr>\n",
       "      <th>5</th>\n",
       "      <td>Nevada</td>\n",
       "      <td>2003</td>\n",
       "      <td>3.2</td>\n",
       "    </tr>\n",
       "  </tbody>\n",
       "</table>\n",
       "</div>"
      ],
      "text/plain": [
       "    state  year  pop\n",
       "0    Ohio  2000  1.5\n",
       "1    Ohio  2001  1.7\n",
       "2    Ohio  2002  3.6\n",
       "3  Nevada  2001  2.4\n",
       "4  Nevada  2002  2.9\n",
       "5  Nevada  2003  3.2"
      ]
     },
     "execution_count": 23,
     "metadata": {},
     "output_type": "execute_result"
    }
   ],
   "source": [
    "del frame[\"Boolean\"]\n",
    "frame\n"
   ]
  },
  {
   "cell_type": "markdown",
   "id": "23c6b936",
   "metadata": {},
   "source": [
    "6. Craete any dummy nested dict of dicts Dataframe manually"
   ]
  },
  {
   "cell_type": "code",
   "execution_count": 24,
   "id": "99e78e23",
   "metadata": {},
   "outputs": [
    {
     "data": {
      "text/html": [
       "<div>\n",
       "<style scoped>\n",
       "    .dataframe tbody tr th:only-of-type {\n",
       "        vertical-align: middle;\n",
       "    }\n",
       "\n",
       "    .dataframe tbody tr th {\n",
       "        vertical-align: top;\n",
       "    }\n",
       "\n",
       "    .dataframe thead th {\n",
       "        text-align: right;\n",
       "    }\n",
       "</style>\n",
       "<table border=\"1\" class=\"dataframe\">\n",
       "  <thead>\n",
       "    <tr style=\"text-align: right;\">\n",
       "      <th></th>\n",
       "      <th>Nevada</th>\n",
       "      <th>Ohio</th>\n",
       "    </tr>\n",
       "  </thead>\n",
       "  <tbody>\n",
       "    <tr>\n",
       "      <th>2001</th>\n",
       "      <td>2.4</td>\n",
       "      <td>1.7</td>\n",
       "    </tr>\n",
       "    <tr>\n",
       "      <th>2002</th>\n",
       "      <td>2.9</td>\n",
       "      <td>3.6</td>\n",
       "    </tr>\n",
       "    <tr>\n",
       "      <th>2000</th>\n",
       "      <td>NaN</td>\n",
       "      <td>1.5</td>\n",
       "    </tr>\n",
       "  </tbody>\n",
       "</table>\n",
       "</div>"
      ],
      "text/plain": [
       "      Nevada  Ohio\n",
       "2001     2.4   1.7\n",
       "2002     2.9   3.6\n",
       "2000     NaN   1.5"
      ]
     },
     "execution_count": 24,
     "metadata": {},
     "output_type": "execute_result"
    }
   ],
   "source": [
    "pop = {'Nevada': {2001: 2.4, 2002: 2.9},\n",
    "       'Ohio': {2000: 1.5, 2001: 1.7, 2002: 3.6}}\n",
    "\n",
    "frame3 = pd.DataFrame(pop)\n",
    "frame3"
   ]
  },
  {
   "cell_type": "markdown",
   "id": "d8107260",
   "metadata": {},
   "source": [
    "7. Tranpose above data?"
   ]
  },
  {
   "cell_type": "code",
   "execution_count": 25,
   "id": "f62dbcc5",
   "metadata": {},
   "outputs": [
    {
     "data": {
      "text/html": [
       "<div>\n",
       "<style scoped>\n",
       "    .dataframe tbody tr th:only-of-type {\n",
       "        vertical-align: middle;\n",
       "    }\n",
       "\n",
       "    .dataframe tbody tr th {\n",
       "        vertical-align: top;\n",
       "    }\n",
       "\n",
       "    .dataframe thead th {\n",
       "        text-align: right;\n",
       "    }\n",
       "</style>\n",
       "<table border=\"1\" class=\"dataframe\">\n",
       "  <thead>\n",
       "    <tr style=\"text-align: right;\">\n",
       "      <th></th>\n",
       "      <th>2001</th>\n",
       "      <th>2002</th>\n",
       "      <th>2000</th>\n",
       "    </tr>\n",
       "  </thead>\n",
       "  <tbody>\n",
       "    <tr>\n",
       "      <th>Nevada</th>\n",
       "      <td>2.4</td>\n",
       "      <td>2.9</td>\n",
       "      <td>NaN</td>\n",
       "    </tr>\n",
       "    <tr>\n",
       "      <th>Ohio</th>\n",
       "      <td>1.7</td>\n",
       "      <td>3.6</td>\n",
       "      <td>1.5</td>\n",
       "    </tr>\n",
       "  </tbody>\n",
       "</table>\n",
       "</div>"
      ],
      "text/plain": [
       "        2001  2002  2000\n",
       "Nevada   2.4   2.9   NaN\n",
       "Ohio     1.7   3.6   1.5"
      ]
     },
     "execution_count": 25,
     "metadata": {},
     "output_type": "execute_result"
    }
   ],
   "source": [
    "T = frame3.T\n",
    "T"
   ]
  },
  {
   "cell_type": "markdown",
   "id": "df0cab15",
   "metadata": {},
   "source": [
    "8. In above table there is no name of series column. Name the index column as \"State\""
   ]
  },
  {
   "cell_type": "code",
   "execution_count": 26,
   "id": "2b604ec1",
   "metadata": {},
   "outputs": [
    {
     "data": {
      "text/html": [
       "<div>\n",
       "<style scoped>\n",
       "    .dataframe tbody tr th:only-of-type {\n",
       "        vertical-align: middle;\n",
       "    }\n",
       "\n",
       "    .dataframe tbody tr th {\n",
       "        vertical-align: top;\n",
       "    }\n",
       "\n",
       "    .dataframe thead th {\n",
       "        text-align: right;\n",
       "    }\n",
       "</style>\n",
       "<table border=\"1\" class=\"dataframe\">\n",
       "  <thead>\n",
       "    <tr style=\"text-align: right;\">\n",
       "      <th></th>\n",
       "      <th>2001</th>\n",
       "      <th>2002</th>\n",
       "      <th>2000</th>\n",
       "    </tr>\n",
       "    <tr>\n",
       "      <th>State</th>\n",
       "      <th></th>\n",
       "      <th></th>\n",
       "      <th></th>\n",
       "    </tr>\n",
       "  </thead>\n",
       "  <tbody>\n",
       "    <tr>\n",
       "      <th>Nevada</th>\n",
       "      <td>2.4</td>\n",
       "      <td>2.9</td>\n",
       "      <td>NaN</td>\n",
       "    </tr>\n",
       "    <tr>\n",
       "      <th>Ohio</th>\n",
       "      <td>1.7</td>\n",
       "      <td>3.6</td>\n",
       "      <td>1.5</td>\n",
       "    </tr>\n",
       "  </tbody>\n",
       "</table>\n",
       "</div>"
      ],
      "text/plain": [
       "        2001  2002  2000\n",
       "State                   \n",
       "Nevada   2.4   2.9   NaN\n",
       "Ohio     1.7   3.6   1.5"
      ]
     },
     "execution_count": 26,
     "metadata": {},
     "output_type": "execute_result"
    }
   ],
   "source": [
    "T.index.name = \"State\"\n",
    "T"
   ]
  },
  {
   "cell_type": "markdown",
   "id": "ca255473",
   "metadata": {},
   "source": [
    "9. In above table there is no name of  Column Header row. Name the columns header row as \"Year\""
   ]
  },
  {
   "cell_type": "code",
   "execution_count": 27,
   "id": "7ad2e987",
   "metadata": {},
   "outputs": [
    {
     "data": {
      "text/html": [
       "<div>\n",
       "<style scoped>\n",
       "    .dataframe tbody tr th:only-of-type {\n",
       "        vertical-align: middle;\n",
       "    }\n",
       "\n",
       "    .dataframe tbody tr th {\n",
       "        vertical-align: top;\n",
       "    }\n",
       "\n",
       "    .dataframe thead th {\n",
       "        text-align: right;\n",
       "    }\n",
       "</style>\n",
       "<table border=\"1\" class=\"dataframe\">\n",
       "  <thead>\n",
       "    <tr style=\"text-align: right;\">\n",
       "      <th>Year</th>\n",
       "      <th>2001</th>\n",
       "      <th>2002</th>\n",
       "      <th>2000</th>\n",
       "    </tr>\n",
       "    <tr>\n",
       "      <th>State</th>\n",
       "      <th></th>\n",
       "      <th></th>\n",
       "      <th></th>\n",
       "    </tr>\n",
       "  </thead>\n",
       "  <tbody>\n",
       "    <tr>\n",
       "      <th>Nevada</th>\n",
       "      <td>2.4</td>\n",
       "      <td>2.9</td>\n",
       "      <td>NaN</td>\n",
       "    </tr>\n",
       "    <tr>\n",
       "      <th>Ohio</th>\n",
       "      <td>1.7</td>\n",
       "      <td>3.6</td>\n",
       "      <td>1.5</td>\n",
       "    </tr>\n",
       "  </tbody>\n",
       "</table>\n",
       "</div>"
      ],
      "text/plain": [
       "Year    2001  2002  2000\n",
       "State                   \n",
       "Nevada   2.4   2.9   NaN\n",
       "Ohio     1.7   3.6   1.5"
      ]
     },
     "execution_count": 27,
     "metadata": {},
     "output_type": "execute_result"
    }
   ],
   "source": [
    "T.columns.name = \"Year\"\n",
    "T"
   ]
  },
  {
   "cell_type": "markdown",
   "id": "3c7a5fd8",
   "metadata": {},
   "source": [
    "10. Create a 2D 4*4 array from value 0 to 15 and put series column on left and columns name on top to. make it look like a table."
   ]
  },
  {
   "cell_type": "code",
   "execution_count": 28,
   "id": "8dc0457e",
   "metadata": {},
   "outputs": [
    {
     "data": {
      "text/html": [
       "<div>\n",
       "<style scoped>\n",
       "    .dataframe tbody tr th:only-of-type {\n",
       "        vertical-align: middle;\n",
       "    }\n",
       "\n",
       "    .dataframe tbody tr th {\n",
       "        vertical-align: top;\n",
       "    }\n",
       "\n",
       "    .dataframe thead th {\n",
       "        text-align: right;\n",
       "    }\n",
       "</style>\n",
       "<table border=\"1\" class=\"dataframe\">\n",
       "  <thead>\n",
       "    <tr style=\"text-align: right;\">\n",
       "      <th></th>\n",
       "      <th>one</th>\n",
       "      <th>two</th>\n",
       "      <th>three</th>\n",
       "      <th>four</th>\n",
       "    </tr>\n",
       "  </thead>\n",
       "  <tbody>\n",
       "    <tr>\n",
       "      <th>Ohio</th>\n",
       "      <td>0</td>\n",
       "      <td>1</td>\n",
       "      <td>2</td>\n",
       "      <td>3</td>\n",
       "    </tr>\n",
       "    <tr>\n",
       "      <th>Colorado</th>\n",
       "      <td>4</td>\n",
       "      <td>5</td>\n",
       "      <td>6</td>\n",
       "      <td>7</td>\n",
       "    </tr>\n",
       "    <tr>\n",
       "      <th>Utah</th>\n",
       "      <td>8</td>\n",
       "      <td>9</td>\n",
       "      <td>10</td>\n",
       "      <td>11</td>\n",
       "    </tr>\n",
       "    <tr>\n",
       "      <th>New York</th>\n",
       "      <td>12</td>\n",
       "      <td>13</td>\n",
       "      <td>14</td>\n",
       "      <td>15</td>\n",
       "    </tr>\n",
       "  </tbody>\n",
       "</table>\n",
       "</div>"
      ],
      "text/plain": [
       "          one  two  three  four\n",
       "Ohio        0    1      2     3\n",
       "Colorado    4    5      6     7\n",
       "Utah        8    9     10    11\n",
       "New York   12   13     14    15"
      ]
     },
     "execution_count": 28,
     "metadata": {},
     "output_type": "execute_result"
    }
   ],
   "source": [
    "import numpy as np\n",
    "\n",
    "data = pd.DataFrame(np.arange(16).reshape((4, 4)),\n",
    "                    index=['Ohio', 'Colorado', 'Utah', 'New York'],\n",
    "                    columns=['one', 'two', 'three', 'four'])\n",
    "\n",
    "data"
   ]
  },
  {
   "cell_type": "markdown",
   "id": "07fdfb75",
   "metadata": {},
   "source": [
    "11. In above table, Sloice data for colarado row and column two and three: Using location"
   ]
  },
  {
   "cell_type": "code",
   "execution_count": 29,
   "id": "3b99c733",
   "metadata": {},
   "outputs": [
    {
     "data": {
      "text/plain": [
       "two      5\n",
       "three    6\n",
       "Name: Colorado, dtype: int64"
      ]
     },
     "execution_count": 29,
     "metadata": {},
     "output_type": "execute_result"
    }
   ],
   "source": [
    "data.loc['Colorado', ['two', 'three']]"
   ]
  },
  {
   "cell_type": "markdown",
   "id": "59971322",
   "metadata": {},
   "source": [
    "12. Give same sort of result as above using location of rows and column instead of name using i location"
   ]
  },
  {
   "cell_type": "code",
   "execution_count": 30,
   "id": "8be08457",
   "metadata": {},
   "outputs": [
    {
     "data": {
      "text/plain": [
       "four    11\n",
       "one      8\n",
       "two      9\n",
       "Name: Utah, dtype: int64"
      ]
     },
     "execution_count": 30,
     "metadata": {},
     "output_type": "execute_result"
    }
   ],
   "source": [
    "data.iloc[2, [3, 0, 1]]"
   ]
  },
  {
   "cell_type": "markdown",
   "id": "1c22c699",
   "metadata": {},
   "source": [
    "13. What happens if we add two different data sets?"
   ]
  },
  {
   "cell_type": "code",
   "execution_count": 33,
   "id": "38a6cb4f",
   "metadata": {},
   "outputs": [
    {
     "name": "stdout",
     "output_type": "stream",
     "text": [
      "            b    c    d\n",
      "Ohio      0.0  1.0  2.0\n",
      "Texas     3.0  4.0  5.0\n",
      "Colorado  6.0  7.0  8.0 \n",
      "\n",
      "          b     d     e\n",
      "Utah    0.0   1.0   2.0\n",
      "Ohio    3.0   4.0   5.0\n",
      "Texas   6.0   7.0   8.0\n",
      "Oregon  9.0  10.0  11.0 \n",
      "\n",
      "            b   c     d   e\n",
      "Colorado  NaN NaN   NaN NaN\n",
      "Ohio      3.0 NaN   6.0 NaN\n",
      "Oregon    NaN NaN   NaN NaN\n",
      "Texas     9.0 NaN  12.0 NaN\n",
      "Utah      NaN NaN   NaN NaN\n"
     ]
    }
   ],
   "source": [
    "df1 = pd.DataFrame(np.arange(9.).reshape((3, 3)), columns=list('bcd'),index=['Ohio', 'Texas', 'Colorado'])\n",
    "df2 = pd.DataFrame(np.arange(12.).reshape((4, 3)), columns=list('bde'),index=['Utah', 'Ohio', 'Texas', 'Oregon'])\n",
    "\n",
    "print(df1,\"\\n\")\n",
    "print(df2,\"\\n\")\n",
    "print(df1 + df2)"
   ]
  },
  {
   "cell_type": "markdown",
   "id": "04e10599",
   "metadata": {},
   "source": [
    "14. How to check duplicacy of values in a column?"
   ]
  },
  {
   "cell_type": "code",
   "execution_count": 34,
   "id": "e0b1f65e",
   "metadata": {},
   "outputs": [
    {
     "data": {
      "text/plain": [
       "False"
      ]
     },
     "execution_count": 34,
     "metadata": {},
     "output_type": "execute_result"
    }
   ],
   "source": [
    "obj = pd.Series(range(5), index=['a', 'a', 'b', 'b', 'c'])\n",
    "obj.index.is_unique\n"
   ]
  },
  {
   "cell_type": "markdown",
   "id": "a5638b3c",
   "metadata": {},
   "source": [
    "15. Apply idmax function on below df to see index of the maximum value if a column in a table"
   ]
  },
  {
   "cell_type": "code",
   "execution_count": 35,
   "id": "1e647e10",
   "metadata": {},
   "outputs": [
    {
     "data": {
      "text/plain": [
       "'Colorado'"
      ]
     },
     "execution_count": 35,
     "metadata": {},
     "output_type": "execute_result"
    }
   ],
   "source": [
    "df1 = pd.DataFrame(np.arange(9.).reshape((3, 3)), columns=list('bcd'),index=['Ohio', 'Texas', 'Colorado'])\n",
    "df1[\"c\"].idxmax()"
   ]
  },
  {
   "cell_type": "markdown",
   "id": "ec04d215",
   "metadata": {},
   "source": [
    "16. Use Cum sum function to see column vise cummulative count."
   ]
  },
  {
   "cell_type": "code",
   "execution_count": 36,
   "id": "ab44afd8",
   "metadata": {},
   "outputs": [
    {
     "data": {
      "text/html": [
       "<div>\n",
       "<style scoped>\n",
       "    .dataframe tbody tr th:only-of-type {\n",
       "        vertical-align: middle;\n",
       "    }\n",
       "\n",
       "    .dataframe tbody tr th {\n",
       "        vertical-align: top;\n",
       "    }\n",
       "\n",
       "    .dataframe thead th {\n",
       "        text-align: right;\n",
       "    }\n",
       "</style>\n",
       "<table border=\"1\" class=\"dataframe\">\n",
       "  <thead>\n",
       "    <tr style=\"text-align: right;\">\n",
       "      <th></th>\n",
       "      <th>b</th>\n",
       "      <th>c</th>\n",
       "      <th>d</th>\n",
       "    </tr>\n",
       "  </thead>\n",
       "  <tbody>\n",
       "    <tr>\n",
       "      <th>Ohio</th>\n",
       "      <td>0.0</td>\n",
       "      <td>1.0</td>\n",
       "      <td>2.0</td>\n",
       "    </tr>\n",
       "    <tr>\n",
       "      <th>Texas</th>\n",
       "      <td>3.0</td>\n",
       "      <td>5.0</td>\n",
       "      <td>7.0</td>\n",
       "    </tr>\n",
       "    <tr>\n",
       "      <th>Colorado</th>\n",
       "      <td>9.0</td>\n",
       "      <td>12.0</td>\n",
       "      <td>15.0</td>\n",
       "    </tr>\n",
       "  </tbody>\n",
       "</table>\n",
       "</div>"
      ],
      "text/plain": [
       "            b     c     d\n",
       "Ohio      0.0   1.0   2.0\n",
       "Texas     3.0   5.0   7.0\n",
       "Colorado  9.0  12.0  15.0"
      ]
     },
     "execution_count": 36,
     "metadata": {},
     "output_type": "execute_result"
    }
   ],
   "source": [
    "df1.cumsum()"
   ]
  },
  {
   "cell_type": "markdown",
   "id": "5060562f",
   "metadata": {},
   "source": [
    "17. Install a panda reader library to read online data, and create a data set"
   ]
  },
  {
   "cell_type": "code",
   "execution_count": 37,
   "id": "7174f468",
   "metadata": {},
   "outputs": [
    {
     "data": {
      "text/plain": [
       "{'AAPL':                   High         Low        Open       Close       Volume  \\\n",
       " Date                                                                      \n",
       " 2017-02-02   32.347500   31.945000   31.995001   32.132500  134841600.0   \n",
       " 2017-02-03   32.297501   32.040001   32.077499   32.270000   98029200.0   \n",
       " 2017-02-06   32.625000   32.224998   32.282501   32.572498  107383600.0   \n",
       " 2017-02-07   33.022499   32.612499   32.634998   32.882500  152735200.0   \n",
       " 2017-02-08   33.055000   32.805000   32.837502   33.009998   92016400.0   \n",
       " ...                ...         ...         ...         ...          ...   \n",
       " 2022-01-26  164.389999  157.820007  163.500000  159.690002  108275300.0   \n",
       " 2022-01-27  163.839996  158.279999  162.449997  159.220001  121954600.0   \n",
       " 2022-01-28  170.350006  162.800003  165.710007  170.330002  179935700.0   \n",
       " 2022-01-31  175.000000  169.509995  170.160004  174.779999  115541600.0   \n",
       " 2022-02-01  174.820007  172.320007  174.009995  174.610001   79067749.0   \n",
       " \n",
       "              Adj Close  \n",
       " Date                    \n",
       " 2017-02-02   30.245739  \n",
       " 2017-02-03   30.375162  \n",
       " 2017-02-06   30.659901  \n",
       " 2017-02-07   30.951696  \n",
       " 2017-02-08   31.071707  \n",
       " ...                ...  \n",
       " 2022-01-26  159.690002  \n",
       " 2022-01-27  159.220001  \n",
       " 2022-01-28  170.330002  \n",
       " 2022-01-31  174.779999  \n",
       " 2022-02-01  174.610001  \n",
       " \n",
       " [1259 rows x 6 columns],\n",
       " 'IBM':                   High         Low        Open       Close     Volume  \\\n",
       " Date                                                                    \n",
       " 2017-02-02  167.275330  165.917786  166.567871  166.902481  2741043.0   \n",
       " 2017-02-03  168.585083  167.198853  167.304016  168.087952  3461528.0   \n",
       " 2017-02-06  168.240921  166.711288  167.600388  168.126190  2772737.0   \n",
       " 2017-02-07  170.764816  168.164429  168.260040  170.611862  4051681.0   \n",
       " 2017-02-08  169.694077  168.145309  169.694077  168.422562  3047103.0   \n",
       " ...                ...         ...         ...         ...        ...   \n",
       " 2022-01-26  137.070007  133.130005  136.470001  134.259995  8336000.0   \n",
       " 2022-01-27  134.750000  132.080002  133.660004  132.520004  5497300.0   \n",
       " 2022-01-28  134.529999  131.789993  133.190002  134.500000  5471500.0   \n",
       " 2022-01-31  134.089996  132.300003  134.089996  133.570007  5859000.0   \n",
       " 2022-02-01  135.960007  132.500000  133.759995  135.529999  5991906.0   \n",
       " \n",
       "              Adj Close  \n",
       " Date                    \n",
       " 2017-02-02  132.696701  \n",
       " 2017-02-03  133.639221  \n",
       " 2017-02-06  133.669617  \n",
       " 2017-02-07  135.645874  \n",
       " 2017-02-08  134.964035  \n",
       " ...                ...  \n",
       " 2022-01-26  134.259995  \n",
       " 2022-01-27  132.520004  \n",
       " 2022-01-28  134.500000  \n",
       " 2022-01-31  133.570007  \n",
       " 2022-02-01  135.529999  \n",
       " \n",
       " [1259 rows x 6 columns],\n",
       " 'MSFT':                   High         Low        Open       Close      Volume  \\\n",
       " Date                                                                     \n",
       " 2017-02-02   63.410000   62.750000   63.250000   63.169998  45827000.0   \n",
       " 2017-02-03   63.700001   63.070000   63.500000   63.680000  30301800.0   \n",
       " 2017-02-06   63.650002   63.139999   63.500000   63.639999  19796400.0   \n",
       " 2017-02-07   63.779999   63.230000   63.740002   63.430000  20277200.0   \n",
       " 2017-02-08   63.810001   63.220001   63.570000   63.340000  18096400.0   \n",
       " ...                ...         ...         ...         ...         ...   \n",
       " 2022-01-26  308.500000  293.029999  307.989990  296.709991  90428900.0   \n",
       " 2022-01-27  307.299988  297.929993  302.660004  299.839996  53481300.0   \n",
       " 2022-01-28  308.480011  294.450012  300.230011  308.260010  49743700.0   \n",
       " 2022-01-31  312.380005  306.369995  308.950012  310.980011  46444500.0   \n",
       " 2022-02-01  310.600006  305.129303  310.410004  308.760010  40388466.0   \n",
       " \n",
       "              Adj Close  \n",
       " Date                    \n",
       " 2017-02-02   58.734081  \n",
       " 2017-02-03   59.208275  \n",
       " 2017-02-06   59.171078  \n",
       " 2017-02-07   58.975826  \n",
       " 2017-02-08   58.892147  \n",
       " ...                ...  \n",
       " 2022-01-26  296.709991  \n",
       " 2022-01-27  299.839996  \n",
       " 2022-01-28  308.260010  \n",
       " 2022-01-31  310.980011  \n",
       " 2022-02-01  308.760010  \n",
       " \n",
       " [1259 rows x 6 columns],\n",
       " 'GOOG':                    High          Low         Open        Close   Volume  \\\n",
       " Date                                                                      \n",
       " 2017-02-02   802.700012   792.000000   793.799988   798.530029  1532100   \n",
       " 2017-02-03   806.000000   800.369995   802.989990   801.489990  1463400   \n",
       " 2017-02-06   801.669983   795.250000   799.700012   801.340027  1184500   \n",
       " 2017-02-07   810.500000   801.780029   803.989990   806.969971  1241200   \n",
       " 2017-02-08   811.840027   803.190002   807.000000   808.380005  1155300   \n",
       " ...                 ...          ...          ...          ...      ...   \n",
       " 2022-01-26  2656.149902  2543.070068  2611.850098  2584.800049  1981500   \n",
       " 2022-01-27  2652.198975  2578.899902  2627.219971  2582.419922  1512400   \n",
       " 2022-01-28  2667.409912  2573.889893  2600.000000  2665.790039  1525900   \n",
       " 2022-01-31  2716.870117  2645.479980  2683.959961  2713.969971  1702800   \n",
       " 2022-02-01  2764.000000  2692.000000  2756.699951  2757.570068  2166817   \n",
       " \n",
       "               Adj Close  \n",
       " Date                     \n",
       " 2017-02-02   798.530029  \n",
       " 2017-02-03   801.489990  \n",
       " 2017-02-06   801.340027  \n",
       " 2017-02-07   806.969971  \n",
       " 2017-02-08   808.380005  \n",
       " ...                 ...  \n",
       " 2022-01-26  2584.800049  \n",
       " 2022-01-27  2582.419922  \n",
       " 2022-01-28  2665.790039  \n",
       " 2022-01-31  2713.969971  \n",
       " 2022-02-01  2757.570068  \n",
       " \n",
       " [1259 rows x 6 columns]}"
      ]
     },
     "execution_count": 37,
     "metadata": {},
     "output_type": "execute_result"
    }
   ],
   "source": [
    "import pandas_datareader.data as web\n",
    "\n",
    "all_data = {ticker: web.get_data_yahoo(ticker)\n",
    "for ticker in ['AAPL', 'IBM', 'MSFT', 'GOOG']}\n",
    "\n",
    "all_data\n",
    "\n",
    "#Below data has 5 columns for each of four comanies: 'AAPL', 'IBM', 'MSFT', 'GOOG'"
   ]
  },
  {
   "cell_type": "markdown",
   "id": "2dbf8405",
   "metadata": {},
   "source": [
    "18. From above table Make two data frames: One for \"Adj Close\" for each brand, and other for \"Volume\" for each brand"
   ]
  },
  {
   "cell_type": "code",
   "execution_count": 38,
   "id": "9dc76d77",
   "metadata": {},
   "outputs": [
    {
     "name": "stdout",
     "output_type": "stream",
     "text": [
      "                  AAPL         IBM        MSFT         GOOG\n",
      "Date                                                       \n",
      "2017-02-02   30.245739  132.696701   58.734081   798.530029\n",
      "2017-02-03   30.375162  133.639221   59.208275   801.489990\n",
      "2017-02-06   30.659901  133.669617   59.171078   801.340027\n",
      "2017-02-07   30.951696  135.645874   58.975826   806.969971\n",
      "2017-02-08   31.071707  134.964035   58.892147   808.380005\n",
      "...                ...         ...         ...          ...\n",
      "2022-01-26  159.690002  134.259995  296.709991  2584.800049\n",
      "2022-01-27  159.220001  132.520004  299.839996  2582.419922\n",
      "2022-01-28  170.330002  134.500000  308.260010  2665.790039\n",
      "2022-01-31  174.779999  133.570007  310.980011  2713.969971\n",
      "2022-02-01  174.610001  135.529999  308.760010  2757.570068\n",
      "\n",
      "[1259 rows x 4 columns] \n",
      "\n",
      "                   AAPL        IBM        MSFT     GOOG\n",
      "Date                                                   \n",
      "2017-02-02  134841600.0  2741043.0  45827000.0  1532100\n",
      "2017-02-03   98029200.0  3461528.0  30301800.0  1463400\n",
      "2017-02-06  107383600.0  2772737.0  19796400.0  1184500\n",
      "2017-02-07  152735200.0  4051681.0  20277200.0  1241200\n",
      "2017-02-08   92016400.0  3047103.0  18096400.0  1155300\n",
      "...                 ...        ...         ...      ...\n",
      "2022-01-26  108275300.0  8336000.0  90428900.0  1981500\n",
      "2022-01-27  121954600.0  5497300.0  53481300.0  1512400\n",
      "2022-01-28  179935700.0  5471500.0  49743700.0  1525900\n",
      "2022-01-31  115541600.0  5859000.0  46444500.0  1702800\n",
      "2022-02-01   79067749.0  5991906.0  40388466.0  2166817\n",
      "\n",
      "[1259 rows x 4 columns]\n"
     ]
    }
   ],
   "source": [
    "price = pd.DataFrame({ticker: data['Adj Close']\n",
    "                      for ticker, data in all_data.items()})\n",
    "volume = pd.DataFrame({ticker: data['Volume']\n",
    "                        for ticker, data in all_data.items()})\n",
    "\n",
    "print(price,\"\\n\")\n",
    "print(volume)"
   ]
  },
  {
   "cell_type": "markdown",
   "id": "73871e75",
   "metadata": {},
   "source": [
    "19. We can observe that values are changing for each day in Price data set. Can we see the perecent change row wise?"
   ]
  },
  {
   "cell_type": "code",
   "execution_count": 39,
   "id": "ec8d86b1",
   "metadata": {},
   "outputs": [
    {
     "data": {
      "text/html": [
       "<div>\n",
       "<style scoped>\n",
       "    .dataframe tbody tr th:only-of-type {\n",
       "        vertical-align: middle;\n",
       "    }\n",
       "\n",
       "    .dataframe tbody tr th {\n",
       "        vertical-align: top;\n",
       "    }\n",
       "\n",
       "    .dataframe thead th {\n",
       "        text-align: right;\n",
       "    }\n",
       "</style>\n",
       "<table border=\"1\" class=\"dataframe\">\n",
       "  <thead>\n",
       "    <tr style=\"text-align: right;\">\n",
       "      <th></th>\n",
       "      <th>AAPL</th>\n",
       "      <th>IBM</th>\n",
       "      <th>MSFT</th>\n",
       "      <th>GOOG</th>\n",
       "    </tr>\n",
       "    <tr>\n",
       "      <th>Date</th>\n",
       "      <th></th>\n",
       "      <th></th>\n",
       "      <th></th>\n",
       "      <th></th>\n",
       "    </tr>\n",
       "  </thead>\n",
       "  <tbody>\n",
       "    <tr>\n",
       "      <th>2017-02-02</th>\n",
       "      <td>NaN</td>\n",
       "      <td>NaN</td>\n",
       "      <td>NaN</td>\n",
       "      <td>NaN</td>\n",
       "    </tr>\n",
       "    <tr>\n",
       "      <th>2017-02-03</th>\n",
       "      <td>0.004279</td>\n",
       "      <td>0.007103</td>\n",
       "      <td>0.008074</td>\n",
       "      <td>0.003707</td>\n",
       "    </tr>\n",
       "    <tr>\n",
       "      <th>2017-02-06</th>\n",
       "      <td>0.009374</td>\n",
       "      <td>0.000227</td>\n",
       "      <td>-0.000628</td>\n",
       "      <td>-0.000187</td>\n",
       "    </tr>\n",
       "    <tr>\n",
       "      <th>2017-02-07</th>\n",
       "      <td>0.009517</td>\n",
       "      <td>0.014785</td>\n",
       "      <td>-0.003300</td>\n",
       "      <td>0.007026</td>\n",
       "    </tr>\n",
       "    <tr>\n",
       "      <th>2017-02-08</th>\n",
       "      <td>0.003877</td>\n",
       "      <td>-0.005027</td>\n",
       "      <td>-0.001419</td>\n",
       "      <td>0.001747</td>\n",
       "    </tr>\n",
       "    <tr>\n",
       "      <th>...</th>\n",
       "      <td>...</td>\n",
       "      <td>...</td>\n",
       "      <td>...</td>\n",
       "      <td>...</td>\n",
       "    </tr>\n",
       "    <tr>\n",
       "      <th>2022-01-26</th>\n",
       "      <td>-0.000563</td>\n",
       "      <td>-0.013520</td>\n",
       "      <td>0.028493</td>\n",
       "      <td>0.019762</td>\n",
       "    </tr>\n",
       "    <tr>\n",
       "      <th>2022-01-27</th>\n",
       "      <td>-0.002943</td>\n",
       "      <td>-0.012960</td>\n",
       "      <td>0.010549</td>\n",
       "      <td>-0.000921</td>\n",
       "    </tr>\n",
       "    <tr>\n",
       "      <th>2022-01-28</th>\n",
       "      <td>0.069778</td>\n",
       "      <td>0.014941</td>\n",
       "      <td>0.028082</td>\n",
       "      <td>0.032284</td>\n",
       "    </tr>\n",
       "    <tr>\n",
       "      <th>2022-01-31</th>\n",
       "      <td>0.026126</td>\n",
       "      <td>-0.006914</td>\n",
       "      <td>0.008824</td>\n",
       "      <td>0.018073</td>\n",
       "    </tr>\n",
       "    <tr>\n",
       "      <th>2022-02-01</th>\n",
       "      <td>-0.000973</td>\n",
       "      <td>0.014674</td>\n",
       "      <td>-0.007139</td>\n",
       "      <td>0.016065</td>\n",
       "    </tr>\n",
       "  </tbody>\n",
       "</table>\n",
       "<p>1259 rows × 4 columns</p>\n",
       "</div>"
      ],
      "text/plain": [
       "                AAPL       IBM      MSFT      GOOG\n",
       "Date                                              \n",
       "2017-02-02       NaN       NaN       NaN       NaN\n",
       "2017-02-03  0.004279  0.007103  0.008074  0.003707\n",
       "2017-02-06  0.009374  0.000227 -0.000628 -0.000187\n",
       "2017-02-07  0.009517  0.014785 -0.003300  0.007026\n",
       "2017-02-08  0.003877 -0.005027 -0.001419  0.001747\n",
       "...              ...       ...       ...       ...\n",
       "2022-01-26 -0.000563 -0.013520  0.028493  0.019762\n",
       "2022-01-27 -0.002943 -0.012960  0.010549 -0.000921\n",
       "2022-01-28  0.069778  0.014941  0.028082  0.032284\n",
       "2022-01-31  0.026126 -0.006914  0.008824  0.018073\n",
       "2022-02-01 -0.000973  0.014674 -0.007139  0.016065\n",
       "\n",
       "[1259 rows x 4 columns]"
      ]
     },
     "execution_count": 39,
     "metadata": {},
     "output_type": "execute_result"
    }
   ],
   "source": [
    "returns = price.pct_change()\n",
    "returns\n",
    "#.pct_change is time series function to see row wise percent change"
   ]
  },
  {
   "cell_type": "markdown",
   "id": "b4314381",
   "metadata": {},
   "source": [
    "20. Find the correlation between \"MSFT\" AND \"IBM\" brand in returns column"
   ]
  },
  {
   "cell_type": "code",
   "execution_count": 40,
   "id": "1023f81f",
   "metadata": {},
   "outputs": [
    {
     "data": {
      "text/plain": [
       "0.4842342190456027"
      ]
     },
     "execution_count": 40,
     "metadata": {},
     "output_type": "execute_result"
    }
   ],
   "source": [
    "returns['MSFT'].corr(returns['IBM'])"
   ]
  },
  {
   "cell_type": "markdown",
   "id": "adee8e04",
   "metadata": {},
   "source": [
    "21. Find the covariance and covariance between \"MSFT\" AND \"IBM\" brand in returns column"
   ]
  },
  {
   "cell_type": "code",
   "execution_count": 41,
   "id": "f72fc340",
   "metadata": {},
   "outputs": [
    {
     "data": {
      "text/plain": [
       "0.00014101794163840642"
      ]
     },
     "execution_count": 41,
     "metadata": {},
     "output_type": "execute_result"
    }
   ],
   "source": [
    "returns['MSFT'].cov(returns['IBM'])"
   ]
  },
  {
   "cell_type": "markdown",
   "id": "1af4b1d4",
   "metadata": {},
   "source": [
    "22. Find the correlation among all columns in a data frame"
   ]
  },
  {
   "cell_type": "code",
   "execution_count": 42,
   "id": "4875ba5e",
   "metadata": {},
   "outputs": [
    {
     "name": "stdout",
     "output_type": "stream",
     "text": [
      "0.00014101794163840642 \n",
      "\n",
      "\n",
      "          AAPL       IBM      MSFT      GOOG\n",
      "AAPL  0.000372  0.000138  0.000250  0.000220\n",
      "IBM   0.000138  0.000278  0.000141  0.000131\n",
      "MSFT  0.000250  0.000141  0.000305  0.000234\n",
      "GOOG  0.000220  0.000131  0.000234  0.000294\n"
     ]
    }
   ],
   "source": [
    "print(returns['MSFT'].cov(returns['IBM']),\"\\n\"*2)\n",
    "\n",
    "print(returns.cov())"
   ]
  },
  {
   "cell_type": "markdown",
   "id": "4a3a0401",
   "metadata": {},
   "source": [
    "23. Find the correlation between same columns in two different datasets. Take returns and volume here"
   ]
  },
  {
   "cell_type": "code",
   "execution_count": 44,
   "id": "c053e08f",
   "metadata": {},
   "outputs": [
    {
     "data": {
      "text/plain": [
       "AAPL   -0.084230\n",
       "IBM    -0.129080\n",
       "MSFT   -0.068377\n",
       "GOOG   -0.108565\n",
       "dtype: float64"
      ]
     },
     "execution_count": 44,
     "metadata": {},
     "output_type": "execute_result"
    }
   ],
   "source": [
    "returns.corrwith(volume)"
   ]
  },
  {
   "cell_type": "markdown",
   "id": "341e5bbb",
   "metadata": {},
   "source": [
    "24. Find summary of all numerical column in a dataset"
   ]
  },
  {
   "cell_type": "code",
   "execution_count": 52,
   "id": "2d9de604",
   "metadata": {},
   "outputs": [
    {
     "data": {
      "text/html": [
       "<div>\n",
       "<style scoped>\n",
       "    .dataframe tbody tr th:only-of-type {\n",
       "        vertical-align: middle;\n",
       "    }\n",
       "\n",
       "    .dataframe tbody tr th {\n",
       "        vertical-align: top;\n",
       "    }\n",
       "\n",
       "    .dataframe thead th {\n",
       "        text-align: right;\n",
       "    }\n",
       "</style>\n",
       "<table border=\"1\" class=\"dataframe\">\n",
       "  <thead>\n",
       "    <tr style=\"text-align: right;\">\n",
       "      <th></th>\n",
       "      <th>AAPL</th>\n",
       "      <th>IBM</th>\n",
       "      <th>MSFT</th>\n",
       "      <th>GOOG</th>\n",
       "    </tr>\n",
       "  </thead>\n",
       "  <tbody>\n",
       "    <tr>\n",
       "      <th>count</th>\n",
       "      <td>1258.000000</td>\n",
       "      <td>1258.000000</td>\n",
       "      <td>1258.000000</td>\n",
       "      <td>1258.000000</td>\n",
       "    </tr>\n",
       "    <tr>\n",
       "      <th>mean</th>\n",
       "      <td>0.001581</td>\n",
       "      <td>0.000157</td>\n",
       "      <td>0.001473</td>\n",
       "      <td>0.001132</td>\n",
       "    </tr>\n",
       "    <tr>\n",
       "      <th>std</th>\n",
       "      <td>0.019290</td>\n",
       "      <td>0.016677</td>\n",
       "      <td>0.017463</td>\n",
       "      <td>0.017133</td>\n",
       "    </tr>\n",
       "    <tr>\n",
       "      <th>min</th>\n",
       "      <td>-0.128647</td>\n",
       "      <td>-0.128508</td>\n",
       "      <td>-0.147390</td>\n",
       "      <td>-0.111008</td>\n",
       "    </tr>\n",
       "    <tr>\n",
       "      <th>25%</th>\n",
       "      <td>-0.006673</td>\n",
       "      <td>-0.006451</td>\n",
       "      <td>-0.005772</td>\n",
       "      <td>-0.005838</td>\n",
       "    </tr>\n",
       "    <tr>\n",
       "      <th>50%</th>\n",
       "      <td>0.001242</td>\n",
       "      <td>0.000473</td>\n",
       "      <td>0.001429</td>\n",
       "      <td>0.001516</td>\n",
       "    </tr>\n",
       "    <tr>\n",
       "      <th>75%</th>\n",
       "      <td>0.011074</td>\n",
       "      <td>0.007178</td>\n",
       "      <td>0.010032</td>\n",
       "      <td>0.009270</td>\n",
       "    </tr>\n",
       "    <tr>\n",
       "      <th>max</th>\n",
       "      <td>0.119808</td>\n",
       "      <td>0.113010</td>\n",
       "      <td>0.142169</td>\n",
       "      <td>0.104485</td>\n",
       "    </tr>\n",
       "  </tbody>\n",
       "</table>\n",
       "</div>"
      ],
      "text/plain": [
       "              AAPL          IBM         MSFT         GOOG\n",
       "count  1258.000000  1258.000000  1258.000000  1258.000000\n",
       "mean      0.001581     0.000157     0.001473     0.001132\n",
       "std       0.019290     0.016677     0.017463     0.017133\n",
       "min      -0.128647    -0.128508    -0.147390    -0.111008\n",
       "25%      -0.006673    -0.006451    -0.005772    -0.005838\n",
       "50%       0.001242     0.000473     0.001429     0.001516\n",
       "75%       0.011074     0.007178     0.010032     0.009270\n",
       "max       0.119808     0.113010     0.142169     0.104485"
      ]
     },
     "execution_count": 52,
     "metadata": {},
     "output_type": "execute_result"
    }
   ],
   "source": [
    "returns.describe()"
   ]
  },
  {
   "cell_type": "markdown",
   "id": "9673d88f",
   "metadata": {},
   "source": [
    "25. Find information of entire dataset"
   ]
  },
  {
   "cell_type": "code",
   "execution_count": 54,
   "id": "b71cb482",
   "metadata": {},
   "outputs": [
    {
     "name": "stdout",
     "output_type": "stream",
     "text": [
      "<class 'pandas.core.frame.DataFrame'>\n",
      "DatetimeIndex: 1259 entries, 2017-02-02 to 2022-02-01\n",
      "Data columns (total 4 columns):\n",
      " #   Column  Non-Null Count  Dtype  \n",
      "---  ------  --------------  -----  \n",
      " 0   AAPL    1258 non-null   float64\n",
      " 1   IBM     1258 non-null   float64\n",
      " 2   MSFT    1258 non-null   float64\n",
      " 3   GOOG    1258 non-null   float64\n",
      "dtypes: float64(4)\n",
      "memory usage: 49.2 KB\n"
     ]
    }
   ],
   "source": [
    "returns.info()"
   ]
  }
 ],
 "metadata": {
  "kernelspec": {
   "display_name": "Python 3 (ipykernel)",
   "language": "python",
   "name": "python3"
  },
  "language_info": {
   "codemirror_mode": {
    "name": "ipython",
    "version": 3
   },
   "file_extension": ".py",
   "mimetype": "text/x-python",
   "name": "python",
   "nbconvert_exporter": "python",
   "pygments_lexer": "ipython3",
   "version": "3.8.8"
  }
 },
 "nbformat": 4,
 "nbformat_minor": 5
}
