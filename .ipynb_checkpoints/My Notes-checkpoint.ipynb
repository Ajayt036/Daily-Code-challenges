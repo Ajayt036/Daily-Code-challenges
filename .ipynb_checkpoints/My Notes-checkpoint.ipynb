{
 "cells": [
  {
   "cell_type": "markdown",
   "id": "6038eb6b",
   "metadata": {},
   "source": [
    "### Below are my therotical notes from the reading materials i used to build my fondation of Python language"
   ]
  },
  {
   "cell_type": "markdown",
   "id": "c010e803",
   "metadata": {},
   "source": [
    "# Python For Data Analysis: Chapter 4,5"
   ]
  },
  {
   "cell_type": "markdown",
   "id": "d32f891c",
   "metadata": {},
   "source": [
    "**1. Few specialities of Numpy**\n",
    "\n",
    "- NumPy is Numerical Python.\n",
    "<BR>\n",
    "    \n",
    "-  Its Fast - NumPy internally stores data in a contiguous block of memory, independent of other built-in Python objects. NumPy’s library of algorithms written in the C language can operate on this memory without any type checking or other overhead. NumPy arrays also use much less memory than built-in Python sequences.\n",
    "<BR>\n",
    "    \n",
    "- Why Pandas over NumPy - Because Pandas is mnore suitable for tabular data.\n",
    "    \n",
    "    \n",
    "**2. The ndArray**:\n",
    "    \n",
    "- One of the key features of NumPy is its N-dimensional array object, or ndarray,\n",
    "which is a fast, flexible container for large datasets in Python. Arrays enable you to\n",
    "perform mathematical operations on whole blocks of data using similar syntax to the\n",
    "equivalent operations between scalar elements.\n",
    "    \n",
    "    \n",
    "**3. What is Panda Data reader library**\n",
    "\n",
    "Pandas Datareader is a Python package that allows us to create a pandas DataFrame object by using various data sources from the internet.\n"
   ]
  },
  {
   "cell_type": "code",
   "execution_count": 8,
   "id": "20f3040b",
   "metadata": {},
   "outputs": [],
   "source": []
  },
  {
   "cell_type": "code",
   "execution_count": null,
   "id": "4203c34b",
   "metadata": {},
   "outputs": [],
   "source": []
  }
 ],
 "metadata": {
  "kernelspec": {
   "display_name": "Python 3 (ipykernel)",
   "language": "python",
   "name": "python3"
  },
  "language_info": {
   "codemirror_mode": {
    "name": "ipython",
    "version": 3
   },
   "file_extension": ".py",
   "mimetype": "text/x-python",
   "name": "python",
   "nbconvert_exporter": "python",
   "pygments_lexer": "ipython3",
   "version": "3.8.8"
  }
 },
 "nbformat": 4,
 "nbformat_minor": 5
}
