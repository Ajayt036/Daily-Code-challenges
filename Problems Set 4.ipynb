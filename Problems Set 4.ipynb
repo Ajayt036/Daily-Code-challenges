{
 "cells": [
  {
   "cell_type": "markdown",
   "id": "fb816176",
   "metadata": {},
   "source": [
    "### Pandas Problems:"
   ]
  },
  {
   "cell_type": "code",
   "execution_count": 19,
   "id": "a64d4409",
   "metadata": {},
   "outputs": [],
   "source": [
    "import pandas as pd"
   ]
  },
  {
   "cell_type": "markdown",
   "id": "a7bb5bfa",
   "metadata": {},
   "source": [
    "## Data Frame"
   ]
  },
  {
   "cell_type": "markdown",
   "id": "19e7f065",
   "metadata": {},
   "source": [
    "1. Create a Manual Data Frame"
   ]
  },
  {
   "cell_type": "code",
   "execution_count": 10,
   "id": "c0058394",
   "metadata": {},
   "outputs": [
    {
     "data": {
      "text/html": [
       "<div>\n",
       "<style scoped>\n",
       "    .dataframe tbody tr th:only-of-type {\n",
       "        vertical-align: middle;\n",
       "    }\n",
       "\n",
       "    .dataframe tbody tr th {\n",
       "        vertical-align: top;\n",
       "    }\n",
       "\n",
       "    .dataframe thead th {\n",
       "        text-align: right;\n",
       "    }\n",
       "</style>\n",
       "<table border=\"1\" class=\"dataframe\">\n",
       "  <thead>\n",
       "    <tr style=\"text-align: right;\">\n",
       "      <th></th>\n",
       "      <th>state</th>\n",
       "      <th>year</th>\n",
       "      <th>pop</th>\n",
       "    </tr>\n",
       "  </thead>\n",
       "  <tbody>\n",
       "    <tr>\n",
       "      <th>0</th>\n",
       "      <td>Ohio</td>\n",
       "      <td>2000</td>\n",
       "      <td>1.5</td>\n",
       "    </tr>\n",
       "    <tr>\n",
       "      <th>1</th>\n",
       "      <td>Ohio</td>\n",
       "      <td>2001</td>\n",
       "      <td>1.7</td>\n",
       "    </tr>\n",
       "    <tr>\n",
       "      <th>2</th>\n",
       "      <td>Ohio</td>\n",
       "      <td>2002</td>\n",
       "      <td>3.6</td>\n",
       "    </tr>\n",
       "    <tr>\n",
       "      <th>3</th>\n",
       "      <td>Nevada</td>\n",
       "      <td>2001</td>\n",
       "      <td>2.4</td>\n",
       "    </tr>\n",
       "    <tr>\n",
       "      <th>4</th>\n",
       "      <td>Nevada</td>\n",
       "      <td>2002</td>\n",
       "      <td>2.9</td>\n",
       "    </tr>\n",
       "    <tr>\n",
       "      <th>5</th>\n",
       "      <td>Nevada</td>\n",
       "      <td>2003</td>\n",
       "      <td>3.2</td>\n",
       "    </tr>\n",
       "  </tbody>\n",
       "</table>\n",
       "</div>"
      ],
      "text/plain": [
       "    state  year  pop\n",
       "0    Ohio  2000  1.5\n",
       "1    Ohio  2001  1.7\n",
       "2    Ohio  2002  3.6\n",
       "3  Nevada  2001  2.4\n",
       "4  Nevada  2002  2.9\n",
       "5  Nevada  2003  3.2"
      ]
     },
     "execution_count": 10,
     "metadata": {},
     "output_type": "execute_result"
    }
   ],
   "source": [
    "data = {'state': ['Ohio', 'Ohio', 'Ohio', 'Nevada', 'Nevada', 'Nevada'],\n",
    "        'year': [2000, 2001, 2002, 2001, 2002, 2003],\n",
    "        'pop': [1.5, 1.7, 3.6, 2.4, 2.9, 3.2]}\n",
    "frame = pd.DataFrame(data)\n",
    "frame\n",
    "#A data frame has always an assigned "
   ]
  },
  {
   "cell_type": "markdown",
   "id": "de15fa96",
   "metadata": {},
   "source": [
    "2. Arrane the column of the avove data frame in given order: Year> Sate> Pop and what happends in a column in not in the table"
   ]
  },
  {
   "cell_type": "code",
   "execution_count": 67,
   "id": "748a3745",
   "metadata": {},
   "outputs": [
    {
     "data": {
      "text/html": [
       "<div>\n",
       "<style scoped>\n",
       "    .dataframe tbody tr th:only-of-type {\n",
       "        vertical-align: middle;\n",
       "    }\n",
       "\n",
       "    .dataframe tbody tr th {\n",
       "        vertical-align: top;\n",
       "    }\n",
       "\n",
       "    .dataframe thead th {\n",
       "        text-align: right;\n",
       "    }\n",
       "</style>\n",
       "<table border=\"1\" class=\"dataframe\">\n",
       "  <thead>\n",
       "    <tr style=\"text-align: right;\">\n",
       "      <th></th>\n",
       "      <th>year</th>\n",
       "      <th>state</th>\n",
       "      <th>pop</th>\n",
       "    </tr>\n",
       "  </thead>\n",
       "  <tbody>\n",
       "    <tr>\n",
       "      <th>0</th>\n",
       "      <td>2000</td>\n",
       "      <td>Ohio</td>\n",
       "      <td>1.5</td>\n",
       "    </tr>\n",
       "    <tr>\n",
       "      <th>1</th>\n",
       "      <td>2001</td>\n",
       "      <td>Ohio</td>\n",
       "      <td>1.7</td>\n",
       "    </tr>\n",
       "    <tr>\n",
       "      <th>2</th>\n",
       "      <td>2002</td>\n",
       "      <td>Ohio</td>\n",
       "      <td>3.6</td>\n",
       "    </tr>\n",
       "    <tr>\n",
       "      <th>3</th>\n",
       "      <td>2001</td>\n",
       "      <td>Nevada</td>\n",
       "      <td>2.4</td>\n",
       "    </tr>\n",
       "    <tr>\n",
       "      <th>4</th>\n",
       "      <td>2002</td>\n",
       "      <td>Nevada</td>\n",
       "      <td>2.9</td>\n",
       "    </tr>\n",
       "    <tr>\n",
       "      <th>5</th>\n",
       "      <td>2003</td>\n",
       "      <td>Nevada</td>\n",
       "      <td>3.2</td>\n",
       "    </tr>\n",
       "  </tbody>\n",
       "</table>\n",
       "</div>"
      ],
      "text/plain": [
       "   year   state  pop\n",
       "0  2000    Ohio  1.5\n",
       "1  2001    Ohio  1.7\n",
       "2  2002    Ohio  3.6\n",
       "3  2001  Nevada  2.4\n",
       "4  2002  Nevada  2.9\n",
       "5  2003  Nevada  3.2"
      ]
     },
     "execution_count": 67,
     "metadata": {},
     "output_type": "execute_result"
    }
   ],
   "source": [
    "pd.DataFrame(data, columns=['year', 'state', 'pop'])\n",
    "\n",
    "#If a column is not in the table. The column will appear wilth \"Nan\" Values"
   ]
  },
  {
   "cell_type": "markdown",
   "id": "5c73efe4",
   "metadata": {},
   "source": [
    "3. Retrieve 2nd row from table using **loc** command"
   ]
  },
  {
   "cell_type": "code",
   "execution_count": 23,
   "id": "ec627f7b",
   "metadata": {},
   "outputs": [
    {
     "data": {
      "text/plain": [
       "state    Ohio\n",
       "year     2001\n",
       "pop       1.7\n",
       "Name: 1, dtype: object"
      ]
     },
     "execution_count": 23,
     "metadata": {},
     "output_type": "execute_result"
    }
   ],
   "source": [
    "#Pick any rows using loc with index value such as index = 1 for 2nd row\n",
    "\n",
    "frame.loc[1]"
   ]
  },
  {
   "cell_type": "markdown",
   "id": "fae05517",
   "metadata": {},
   "source": [
    "4. Add a new boolean column w.r.t to a column in table"
   ]
  },
  {
   "cell_type": "code",
   "execution_count": 41,
   "id": "aa5b3be3",
   "metadata": {},
   "outputs": [
    {
     "data": {
      "text/html": [
       "<div>\n",
       "<style scoped>\n",
       "    .dataframe tbody tr th:only-of-type {\n",
       "        vertical-align: middle;\n",
       "    }\n",
       "\n",
       "    .dataframe tbody tr th {\n",
       "        vertical-align: top;\n",
       "    }\n",
       "\n",
       "    .dataframe thead th {\n",
       "        text-align: right;\n",
       "    }\n",
       "</style>\n",
       "<table border=\"1\" class=\"dataframe\">\n",
       "  <thead>\n",
       "    <tr style=\"text-align: right;\">\n",
       "      <th></th>\n",
       "      <th>state</th>\n",
       "      <th>year</th>\n",
       "      <th>pop</th>\n",
       "      <th>Boolean</th>\n",
       "    </tr>\n",
       "  </thead>\n",
       "  <tbody>\n",
       "    <tr>\n",
       "      <th>0</th>\n",
       "      <td>Ohio</td>\n",
       "      <td>2000</td>\n",
       "      <td>1.5</td>\n",
       "      <td>True</td>\n",
       "    </tr>\n",
       "    <tr>\n",
       "      <th>1</th>\n",
       "      <td>Ohio</td>\n",
       "      <td>2001</td>\n",
       "      <td>1.7</td>\n",
       "      <td>True</td>\n",
       "    </tr>\n",
       "    <tr>\n",
       "      <th>2</th>\n",
       "      <td>Ohio</td>\n",
       "      <td>2002</td>\n",
       "      <td>3.6</td>\n",
       "      <td>True</td>\n",
       "    </tr>\n",
       "    <tr>\n",
       "      <th>3</th>\n",
       "      <td>Nevada</td>\n",
       "      <td>2001</td>\n",
       "      <td>2.4</td>\n",
       "      <td>False</td>\n",
       "    </tr>\n",
       "    <tr>\n",
       "      <th>4</th>\n",
       "      <td>Nevada</td>\n",
       "      <td>2002</td>\n",
       "      <td>2.9</td>\n",
       "      <td>False</td>\n",
       "    </tr>\n",
       "    <tr>\n",
       "      <th>5</th>\n",
       "      <td>Nevada</td>\n",
       "      <td>2003</td>\n",
       "      <td>3.2</td>\n",
       "      <td>False</td>\n",
       "    </tr>\n",
       "  </tbody>\n",
       "</table>\n",
       "</div>"
      ],
      "text/plain": [
       "    state  year  pop  Boolean\n",
       "0    Ohio  2000  1.5     True\n",
       "1    Ohio  2001  1.7     True\n",
       "2    Ohio  2002  3.6     True\n",
       "3  Nevada  2001  2.4    False\n",
       "4  Nevada  2002  2.9    False\n",
       "5  Nevada  2003  3.2    False"
      ]
     },
     "execution_count": 41,
     "metadata": {},
     "output_type": "execute_result"
    }
   ],
   "source": [
    "frame[\"Boolean\"] = frame[\"state\"] == \"Ohio\"\n",
    "frame"
   ]
  },
  {
   "cell_type": "markdown",
   "id": "b2f4e704",
   "metadata": {},
   "source": [
    "5. Delete the boolean column from above table"
   ]
  },
  {
   "cell_type": "code",
   "execution_count": 45,
   "id": "2fc0e1eb",
   "metadata": {},
   "outputs": [
    {
     "data": {
      "text/html": [
       "<div>\n",
       "<style scoped>\n",
       "    .dataframe tbody tr th:only-of-type {\n",
       "        vertical-align: middle;\n",
       "    }\n",
       "\n",
       "    .dataframe tbody tr th {\n",
       "        vertical-align: top;\n",
       "    }\n",
       "\n",
       "    .dataframe thead th {\n",
       "        text-align: right;\n",
       "    }\n",
       "</style>\n",
       "<table border=\"1\" class=\"dataframe\">\n",
       "  <thead>\n",
       "    <tr style=\"text-align: right;\">\n",
       "      <th></th>\n",
       "      <th>state</th>\n",
       "      <th>year</th>\n",
       "      <th>pop</th>\n",
       "    </tr>\n",
       "  </thead>\n",
       "  <tbody>\n",
       "    <tr>\n",
       "      <th>0</th>\n",
       "      <td>Ohio</td>\n",
       "      <td>2000</td>\n",
       "      <td>1.5</td>\n",
       "    </tr>\n",
       "    <tr>\n",
       "      <th>1</th>\n",
       "      <td>Ohio</td>\n",
       "      <td>2001</td>\n",
       "      <td>1.7</td>\n",
       "    </tr>\n",
       "    <tr>\n",
       "      <th>2</th>\n",
       "      <td>Ohio</td>\n",
       "      <td>2002</td>\n",
       "      <td>3.6</td>\n",
       "    </tr>\n",
       "    <tr>\n",
       "      <th>3</th>\n",
       "      <td>Nevada</td>\n",
       "      <td>2001</td>\n",
       "      <td>2.4</td>\n",
       "    </tr>\n",
       "    <tr>\n",
       "      <th>4</th>\n",
       "      <td>Nevada</td>\n",
       "      <td>2002</td>\n",
       "      <td>2.9</td>\n",
       "    </tr>\n",
       "    <tr>\n",
       "      <th>5</th>\n",
       "      <td>Nevada</td>\n",
       "      <td>2003</td>\n",
       "      <td>3.2</td>\n",
       "    </tr>\n",
       "  </tbody>\n",
       "</table>\n",
       "</div>"
      ],
      "text/plain": [
       "    state  year  pop\n",
       "0    Ohio  2000  1.5\n",
       "1    Ohio  2001  1.7\n",
       "2    Ohio  2002  3.6\n",
       "3  Nevada  2001  2.4\n",
       "4  Nevada  2002  2.9\n",
       "5  Nevada  2003  3.2"
      ]
     },
     "execution_count": 45,
     "metadata": {},
     "output_type": "execute_result"
    }
   ],
   "source": [
    "del frame[\"Boolean\"]\n",
    "frame\n"
   ]
  },
  {
   "cell_type": "markdown",
   "id": "23c6b936",
   "metadata": {},
   "source": [
    "6. Craete any dummy nested dict of dicts Dataframe manually"
   ]
  },
  {
   "cell_type": "code",
   "execution_count": 57,
   "id": "99e78e23",
   "metadata": {},
   "outputs": [
    {
     "data": {
      "text/html": [
       "<div>\n",
       "<style scoped>\n",
       "    .dataframe tbody tr th:only-of-type {\n",
       "        vertical-align: middle;\n",
       "    }\n",
       "\n",
       "    .dataframe tbody tr th {\n",
       "        vertical-align: top;\n",
       "    }\n",
       "\n",
       "    .dataframe thead th {\n",
       "        text-align: right;\n",
       "    }\n",
       "</style>\n",
       "<table border=\"1\" class=\"dataframe\">\n",
       "  <thead>\n",
       "    <tr style=\"text-align: right;\">\n",
       "      <th></th>\n",
       "      <th>Nevada</th>\n",
       "      <th>Ohio</th>\n",
       "    </tr>\n",
       "  </thead>\n",
       "  <tbody>\n",
       "    <tr>\n",
       "      <th>2001</th>\n",
       "      <td>2.4</td>\n",
       "      <td>1.7</td>\n",
       "    </tr>\n",
       "    <tr>\n",
       "      <th>2002</th>\n",
       "      <td>2.9</td>\n",
       "      <td>3.6</td>\n",
       "    </tr>\n",
       "    <tr>\n",
       "      <th>2000</th>\n",
       "      <td>NaN</td>\n",
       "      <td>1.5</td>\n",
       "    </tr>\n",
       "  </tbody>\n",
       "</table>\n",
       "</div>"
      ],
      "text/plain": [
       "      Nevada  Ohio\n",
       "2001     2.4   1.7\n",
       "2002     2.9   3.6\n",
       "2000     NaN   1.5"
      ]
     },
     "execution_count": 57,
     "metadata": {},
     "output_type": "execute_result"
    }
   ],
   "source": [
    "pop = {'Nevada': {2001: 2.4, 2002: 2.9},\n",
    "       'Ohio': {2000: 1.5, 2001: 1.7, 2002: 3.6}}\n",
    "\n",
    "frame3 = pd.DataFrame(pop)\n",
    "frame3"
   ]
  },
  {
   "cell_type": "markdown",
   "id": "d8107260",
   "metadata": {},
   "source": [
    "7. Tranpose above data?"
   ]
  },
  {
   "cell_type": "code",
   "execution_count": 58,
   "id": "f62dbcc5",
   "metadata": {},
   "outputs": [
    {
     "data": {
      "text/html": [
       "<div>\n",
       "<style scoped>\n",
       "    .dataframe tbody tr th:only-of-type {\n",
       "        vertical-align: middle;\n",
       "    }\n",
       "\n",
       "    .dataframe tbody tr th {\n",
       "        vertical-align: top;\n",
       "    }\n",
       "\n",
       "    .dataframe thead th {\n",
       "        text-align: right;\n",
       "    }\n",
       "</style>\n",
       "<table border=\"1\" class=\"dataframe\">\n",
       "  <thead>\n",
       "    <tr style=\"text-align: right;\">\n",
       "      <th></th>\n",
       "      <th>2001</th>\n",
       "      <th>2002</th>\n",
       "      <th>2000</th>\n",
       "    </tr>\n",
       "  </thead>\n",
       "  <tbody>\n",
       "    <tr>\n",
       "      <th>Nevada</th>\n",
       "      <td>2.4</td>\n",
       "      <td>2.9</td>\n",
       "      <td>NaN</td>\n",
       "    </tr>\n",
       "    <tr>\n",
       "      <th>Ohio</th>\n",
       "      <td>1.7</td>\n",
       "      <td>3.6</td>\n",
       "      <td>1.5</td>\n",
       "    </tr>\n",
       "  </tbody>\n",
       "</table>\n",
       "</div>"
      ],
      "text/plain": [
       "        2001  2002  2000\n",
       "Nevada   2.4   2.9   NaN\n",
       "Ohio     1.7   3.6   1.5"
      ]
     },
     "execution_count": 58,
     "metadata": {},
     "output_type": "execute_result"
    }
   ],
   "source": [
    "T = frame3.T\n",
    "T"
   ]
  },
  {
   "cell_type": "markdown",
   "id": "df0cab15",
   "metadata": {},
   "source": [
    "8. In above table there is no name of series column. Name the index column as \"State\""
   ]
  },
  {
   "cell_type": "code",
   "execution_count": 59,
   "id": "2b604ec1",
   "metadata": {},
   "outputs": [
    {
     "data": {
      "text/html": [
       "<div>\n",
       "<style scoped>\n",
       "    .dataframe tbody tr th:only-of-type {\n",
       "        vertical-align: middle;\n",
       "    }\n",
       "\n",
       "    .dataframe tbody tr th {\n",
       "        vertical-align: top;\n",
       "    }\n",
       "\n",
       "    .dataframe thead th {\n",
       "        text-align: right;\n",
       "    }\n",
       "</style>\n",
       "<table border=\"1\" class=\"dataframe\">\n",
       "  <thead>\n",
       "    <tr style=\"text-align: right;\">\n",
       "      <th></th>\n",
       "      <th>2001</th>\n",
       "      <th>2002</th>\n",
       "      <th>2000</th>\n",
       "    </tr>\n",
       "    <tr>\n",
       "      <th>State</th>\n",
       "      <th></th>\n",
       "      <th></th>\n",
       "      <th></th>\n",
       "    </tr>\n",
       "  </thead>\n",
       "  <tbody>\n",
       "    <tr>\n",
       "      <th>Nevada</th>\n",
       "      <td>2.4</td>\n",
       "      <td>2.9</td>\n",
       "      <td>NaN</td>\n",
       "    </tr>\n",
       "    <tr>\n",
       "      <th>Ohio</th>\n",
       "      <td>1.7</td>\n",
       "      <td>3.6</td>\n",
       "      <td>1.5</td>\n",
       "    </tr>\n",
       "  </tbody>\n",
       "</table>\n",
       "</div>"
      ],
      "text/plain": [
       "        2001  2002  2000\n",
       "State                   \n",
       "Nevada   2.4   2.9   NaN\n",
       "Ohio     1.7   3.6   1.5"
      ]
     },
     "execution_count": 59,
     "metadata": {},
     "output_type": "execute_result"
    }
   ],
   "source": [
    "T.index.name = \"State\"\n",
    "T"
   ]
  },
  {
   "cell_type": "markdown",
   "id": "ca255473",
   "metadata": {},
   "source": [
    "9. In above table there is no name of  Column Header row. Name the columns header row as \"Year\""
   ]
  },
  {
   "cell_type": "code",
   "execution_count": 61,
   "id": "7ad2e987",
   "metadata": {},
   "outputs": [
    {
     "data": {
      "text/html": [
       "<div>\n",
       "<style scoped>\n",
       "    .dataframe tbody tr th:only-of-type {\n",
       "        vertical-align: middle;\n",
       "    }\n",
       "\n",
       "    .dataframe tbody tr th {\n",
       "        vertical-align: top;\n",
       "    }\n",
       "\n",
       "    .dataframe thead th {\n",
       "        text-align: right;\n",
       "    }\n",
       "</style>\n",
       "<table border=\"1\" class=\"dataframe\">\n",
       "  <thead>\n",
       "    <tr style=\"text-align: right;\">\n",
       "      <th>Year</th>\n",
       "      <th>2001</th>\n",
       "      <th>2002</th>\n",
       "      <th>2000</th>\n",
       "    </tr>\n",
       "    <tr>\n",
       "      <th>State</th>\n",
       "      <th></th>\n",
       "      <th></th>\n",
       "      <th></th>\n",
       "    </tr>\n",
       "  </thead>\n",
       "  <tbody>\n",
       "    <tr>\n",
       "      <th>Nevada</th>\n",
       "      <td>2.4</td>\n",
       "      <td>2.9</td>\n",
       "      <td>NaN</td>\n",
       "    </tr>\n",
       "    <tr>\n",
       "      <th>Ohio</th>\n",
       "      <td>1.7</td>\n",
       "      <td>3.6</td>\n",
       "      <td>1.5</td>\n",
       "    </tr>\n",
       "  </tbody>\n",
       "</table>\n",
       "</div>"
      ],
      "text/plain": [
       "Year    2001  2002  2000\n",
       "State                   \n",
       "Nevada   2.4   2.9   NaN\n",
       "Ohio     1.7   3.6   1.5"
      ]
     },
     "execution_count": 61,
     "metadata": {},
     "output_type": "execute_result"
    }
   ],
   "source": [
    "T.columns.name = \"Year\"\n",
    "T"
   ]
  },
  {
   "cell_type": "markdown",
   "id": "3c7a5fd8",
   "metadata": {},
   "source": [
    "10. Create a 2D 4*4 array from value 0 to 15 and put series column on left and columns name on top to. make it look like a table."
   ]
  },
  {
   "cell_type": "code",
   "execution_count": 70,
   "id": "8dc0457e",
   "metadata": {},
   "outputs": [
    {
     "data": {
      "text/html": [
       "<div>\n",
       "<style scoped>\n",
       "    .dataframe tbody tr th:only-of-type {\n",
       "        vertical-align: middle;\n",
       "    }\n",
       "\n",
       "    .dataframe tbody tr th {\n",
       "        vertical-align: top;\n",
       "    }\n",
       "\n",
       "    .dataframe thead th {\n",
       "        text-align: right;\n",
       "    }\n",
       "</style>\n",
       "<table border=\"1\" class=\"dataframe\">\n",
       "  <thead>\n",
       "    <tr style=\"text-align: right;\">\n",
       "      <th></th>\n",
       "      <th>one</th>\n",
       "      <th>two</th>\n",
       "      <th>three</th>\n",
       "      <th>four</th>\n",
       "    </tr>\n",
       "  </thead>\n",
       "  <tbody>\n",
       "    <tr>\n",
       "      <th>Ohio</th>\n",
       "      <td>0</td>\n",
       "      <td>1</td>\n",
       "      <td>2</td>\n",
       "      <td>3</td>\n",
       "    </tr>\n",
       "    <tr>\n",
       "      <th>Colorado</th>\n",
       "      <td>4</td>\n",
       "      <td>5</td>\n",
       "      <td>6</td>\n",
       "      <td>7</td>\n",
       "    </tr>\n",
       "    <tr>\n",
       "      <th>Utah</th>\n",
       "      <td>8</td>\n",
       "      <td>9</td>\n",
       "      <td>10</td>\n",
       "      <td>11</td>\n",
       "    </tr>\n",
       "    <tr>\n",
       "      <th>New York</th>\n",
       "      <td>12</td>\n",
       "      <td>13</td>\n",
       "      <td>14</td>\n",
       "      <td>15</td>\n",
       "    </tr>\n",
       "  </tbody>\n",
       "</table>\n",
       "</div>"
      ],
      "text/plain": [
       "          one  two  three  four\n",
       "Ohio        0    1      2     3\n",
       "Colorado    4    5      6     7\n",
       "Utah        8    9     10    11\n",
       "New York   12   13     14    15"
      ]
     },
     "execution_count": 70,
     "metadata": {},
     "output_type": "execute_result"
    }
   ],
   "source": [
    "import numpy as np\n",
    "\n",
    "data = pd.DataFrame(np.arange(16).reshape((4, 4)),\n",
    "                    index=['Ohio', 'Colorado', 'Utah', 'New York'],\n",
    "                    columns=['one', 'two', 'three', 'four'])\n",
    "\n",
    "data"
   ]
  },
  {
   "cell_type": "markdown",
   "id": "07fdfb75",
   "metadata": {},
   "source": [
    "11. In above table, Sloice data for colarado row and column two and three: Using location"
   ]
  },
  {
   "cell_type": "code",
   "execution_count": 71,
   "id": "3b99c733",
   "metadata": {},
   "outputs": [
    {
     "data": {
      "text/plain": [
       "two      5\n",
       "three    6\n",
       "Name: Colorado, dtype: int64"
      ]
     },
     "execution_count": 71,
     "metadata": {},
     "output_type": "execute_result"
    }
   ],
   "source": [
    "data.loc['Colorado', ['two', 'three']]"
   ]
  },
  {
   "cell_type": "markdown",
   "id": "59971322",
   "metadata": {},
   "source": [
    "12. Give same sort of result as above using location of rows and column instead of name using i location"
   ]
  },
  {
   "cell_type": "code",
   "execution_count": 73,
   "id": "8be08457",
   "metadata": {},
   "outputs": [
    {
     "data": {
      "text/plain": [
       "four    11\n",
       "one      8\n",
       "two      9\n",
       "Name: Utah, dtype: int64"
      ]
     },
     "execution_count": 73,
     "metadata": {},
     "output_type": "execute_result"
    }
   ],
   "source": [
    "data.iloc[2, [3, 0, 1]]"
   ]
  },
  {
   "cell_type": "markdown",
   "id": "1c22c699",
   "metadata": {},
   "source": [
    "13. What happens if we add two different data sets?"
   ]
  },
  {
   "cell_type": "code",
   "execution_count": 78,
   "id": "38a6cb4f",
   "metadata": {},
   "outputs": [
    {
     "name": "stdout",
     "output_type": "stream",
     "text": [
      "            b    c    d\n",
      "Ohio      0.0  1.0  2.0\n",
      "Texas     3.0  4.0  5.0\n",
      "Colorado  6.0  7.0  8.0 \n",
      "\n",
      "          b     d     e\n",
      "Utah    0.0   1.0   2.0\n",
      "Ohio    3.0   4.0   5.0\n",
      "Texas   6.0   7.0   8.0\n",
      "Oregon  9.0  10.0  11.0 \n",
      "\n",
      "            b   c     d   e\n",
      "Colorado  NaN NaN   NaN NaN\n",
      "Ohio      3.0 NaN   6.0 NaN\n",
      "Oregon    NaN NaN   NaN NaN\n",
      "Texas     9.0 NaN  12.0 NaN\n",
      "Utah      NaN NaN   NaN NaN\n"
     ]
    }
   ],
   "source": [
    "df1 = pd.DataFrame(np.arange(9.).reshape((3, 3)), columns=list('bcd'),index=['Ohio', 'Texas', 'Colorado'])\n",
    "s1+s2\n",
    "df2 = pd.DataFrame(np.arange(12.).reshape((4, 3)), columns=list('bde'),index=['Utah', 'Ohio', 'Texas', 'Oregon'])\n",
    "\n",
    "print(df1,\"\\n\")\n",
    "print(df2,\"\\n\")\n",
    "print(df1 + df2)"
   ]
  },
  {
   "cell_type": "markdown",
   "id": "04e10599",
   "metadata": {},
   "source": [
    "14. How to check duplicacy of values in a column?"
   ]
  },
  {
   "cell_type": "code",
   "execution_count": 80,
   "id": "e0b1f65e",
   "metadata": {},
   "outputs": [
    {
     "data": {
      "text/plain": [
       "False"
      ]
     },
     "execution_count": 80,
     "metadata": {},
     "output_type": "execute_result"
    }
   ],
   "source": [
    "obj = pd.Series(range(5), index=['a', 'a', 'b', 'b', 'c'])\n",
    "obj.index.is_unique\n"
   ]
  },
  {
   "cell_type": "markdown",
   "id": "a5638b3c",
   "metadata": {},
   "source": [
    "15. Apply idmax function on below df to see index of the maximum value if a column in a table"
   ]
  },
  {
   "cell_type": "code",
   "execution_count": 84,
   "id": "1e647e10",
   "metadata": {},
   "outputs": [
    {
     "data": {
      "text/plain": [
       "'Colorado'"
      ]
     },
     "execution_count": 84,
     "metadata": {},
     "output_type": "execute_result"
    }
   ],
   "source": [
    "df1 = pd.DataFrame(np.arange(9.).reshape((3, 3)), columns=list('bcd'),index=['Ohio', 'Texas', 'Colorado'])\n",
    "df1[\"c\"].idxmax()"
   ]
  },
  {
   "cell_type": "markdown",
   "id": "ec04d215",
   "metadata": {},
   "source": [
    "16. Use Cum sum function to see column vise cummulative count."
   ]
  },
  {
   "cell_type": "code",
   "execution_count": 87,
   "id": "ab44afd8",
   "metadata": {},
   "outputs": [
    {
     "data": {
      "text/html": [
       "<div>\n",
       "<style scoped>\n",
       "    .dataframe tbody tr th:only-of-type {\n",
       "        vertical-align: middle;\n",
       "    }\n",
       "\n",
       "    .dataframe tbody tr th {\n",
       "        vertical-align: top;\n",
       "    }\n",
       "\n",
       "    .dataframe thead th {\n",
       "        text-align: right;\n",
       "    }\n",
       "</style>\n",
       "<table border=\"1\" class=\"dataframe\">\n",
       "  <thead>\n",
       "    <tr style=\"text-align: right;\">\n",
       "      <th></th>\n",
       "      <th>b</th>\n",
       "      <th>c</th>\n",
       "      <th>d</th>\n",
       "    </tr>\n",
       "  </thead>\n",
       "  <tbody>\n",
       "    <tr>\n",
       "      <th>Ohio</th>\n",
       "      <td>0.0</td>\n",
       "      <td>1.0</td>\n",
       "      <td>2.0</td>\n",
       "    </tr>\n",
       "    <tr>\n",
       "      <th>Texas</th>\n",
       "      <td>3.0</td>\n",
       "      <td>5.0</td>\n",
       "      <td>7.0</td>\n",
       "    </tr>\n",
       "    <tr>\n",
       "      <th>Colorado</th>\n",
       "      <td>9.0</td>\n",
       "      <td>12.0</td>\n",
       "      <td>15.0</td>\n",
       "    </tr>\n",
       "  </tbody>\n",
       "</table>\n",
       "</div>"
      ],
      "text/plain": [
       "            b     c     d\n",
       "Ohio      0.0   1.0   2.0\n",
       "Texas     3.0   5.0   7.0\n",
       "Colorado  9.0  12.0  15.0"
      ]
     },
     "execution_count": 87,
     "metadata": {},
     "output_type": "execute_result"
    }
   ],
   "source": [
    "df1.cumsum()"
   ]
  },
  {
   "cell_type": "markdown",
   "id": "5060562f",
   "metadata": {},
   "source": [
    "17. Install a panda reader library to read online data, and create a data set"
   ]
  },
  {
   "cell_type": "code",
   "execution_count": 25,
   "id": "7174f468",
   "metadata": {},
   "outputs": [
    {
     "data": {
      "text/plain": [
       "{'AAPL':                   High         Low        Open       Close       Volume  \\\n",
       " Date                                                                      \n",
       " 2017-01-26   30.610001   30.400000   30.417500   30.485001  105350400.0   \n",
       " 2017-01-27   30.587500   30.400000   30.535000   30.487499   82251600.0   \n",
       " 2017-01-30   30.407499   30.165001   30.232500   30.407499  121510000.0   \n",
       " 2017-01-31   30.347500   30.155001   30.287500   30.337500  196804000.0   \n",
       " 2017-02-01   32.622501   31.752501   31.757500   32.187500  447940000.0   \n",
       " ...                ...         ...         ...         ...          ...   \n",
       " 2022-01-19  171.080002  165.940002  170.000000  166.229996   94815000.0   \n",
       " 2022-01-20  169.679993  164.179993  166.979996  164.509995   91420500.0   \n",
       " 2022-01-21  166.330002  162.300003  164.419998  162.410004  122501300.0   \n",
       " 2022-01-24  162.300003  154.699997  160.020004  161.619995  162706700.0   \n",
       " 2022-01-25  162.759995  157.020004  158.979996  159.779999  114972000.0   \n",
       " \n",
       "              Adj Close  \n",
       " Date                    \n",
       " 2017-01-26   28.694979  \n",
       " 2017-01-27   28.697329  \n",
       " 2017-01-30   28.622026  \n",
       " 2017-01-31   28.556141  \n",
       " 2017-02-01   30.297508  \n",
       " ...                ...  \n",
       " 2022-01-19  166.229996  \n",
       " 2022-01-20  164.509995  \n",
       " 2022-01-21  162.410004  \n",
       " 2022-01-24  161.619995  \n",
       " 2022-01-25  159.779999  \n",
       " \n",
       " [1259 rows x 6 columns],\n",
       " 'IBM':                   High         Low        Open       Close      Volume  \\\n",
       " Date                                                                     \n",
       " 2017-01-26  171.013382  169.703629  170.229446  170.803055   3204839.0   \n",
       " 2017-01-27  171.319305  169.502869  170.621414  169.502869   3642486.0   \n",
       " 2017-01-30  169.282990  166.902481  169.196945  168.068832   4283161.0   \n",
       " 2017-01-31  167.858505  165.975143  167.351822  166.845123   4329394.0   \n",
       " 2017-02-01  167.973236  165.286804  167.304016  166.625244   2924302.0   \n",
       " ...                ...         ...         ...         ...         ...   \n",
       " 2022-01-19  133.899994  131.500000  132.899994  131.580002   4103700.0   \n",
       " 2022-01-20  132.880005  130.570007  131.259995  130.820007   5278200.0   \n",
       " 2022-01-21  131.869995  129.270004  131.649994  129.350006   5905000.0   \n",
       " 2022-01-24  129.149994  124.190002  127.989998  128.820007  13777600.0   \n",
       " 2022-01-25  137.339996  128.300003  129.139999  136.100006  19700100.0   \n",
       " \n",
       "              Adj Close  \n",
       " Date                    \n",
       " 2017-01-26  135.797882  \n",
       " 2017-01-27  134.764160  \n",
       " 2017-01-30  133.624023  \n",
       " 2017-01-31  132.651093  \n",
       " 2017-02-01  132.476257  \n",
       " ...                ...  \n",
       " 2022-01-19  131.580002  \n",
       " 2022-01-20  130.820007  \n",
       " 2022-01-21  129.350006  \n",
       " 2022-01-24  128.820007  \n",
       " 2022-01-25  136.100006  \n",
       " \n",
       " [1259 rows x 6 columns],\n",
       " 'MSFT':                   High         Low        Open       Close      Volume  \\\n",
       " Date                                                                     \n",
       " 2017-01-26   64.540001   63.549999   64.120003   64.269997  43554600.0   \n",
       " 2017-01-27   65.910004   64.889999   65.389999   65.779999  44818000.0   \n",
       " 2017-01-30   65.790001   64.800003   65.690002   65.129997  31651400.0   \n",
       " 2017-01-31   65.150002   64.260002   64.860001   64.650002  25270500.0   \n",
       " 2017-02-01   64.620003   63.470001   64.360001   63.580002  39671500.0   \n",
       " ...                ...         ...         ...         ...         ...   \n",
       " 2022-01-19  313.910004  302.700012  306.290009  303.329987  45933900.0   \n",
       " 2022-01-20  311.649994  301.140015  309.070007  301.600006  35380700.0   \n",
       " 2022-01-21  304.109985  295.609985  302.690002  296.029999  57118300.0   \n",
       " 2022-01-24  297.109985  276.049988  292.200012  296.369995  86035400.0   \n",
       " 2022-01-25  294.989990  285.170013  291.519989  288.489990  69838900.0   \n",
       " \n",
       "              Adj Close  \n",
       " Date                    \n",
       " 2017-01-26   59.756840  \n",
       " 2017-01-27   61.160809  \n",
       " 2017-01-30   60.556461  \n",
       " 2017-01-31   60.110165  \n",
       " 2017-02-01   59.115288  \n",
       " ...                ...  \n",
       " 2022-01-19  303.329987  \n",
       " 2022-01-20  301.600006  \n",
       " 2022-01-21  296.029999  \n",
       " 2022-01-24  296.369995  \n",
       " 2022-01-25  288.489990  \n",
       " \n",
       " [1259 rows x 6 columns],\n",
       " 'GOOG':                    High          Low         Open        Close   Volume  \\\n",
       " Date                                                                      \n",
       " 2017-01-26   838.000000   827.010010   837.809998   832.150024  2973900   \n",
       " 2017-01-27   841.950012   820.440002   834.710022   823.309998  2965800   \n",
       " 2017-01-30   815.840027   799.799988   814.659973   802.320007  3246600   \n",
       " 2017-01-31   801.250000   790.520020   796.859985   796.789978  2160600   \n",
       " 2017-02-01   801.190002   791.190002   799.679993   795.695007  2029700   \n",
       " ...                 ...          ...          ...          ...      ...   \n",
       " 2022-01-19  2767.989990  2710.000000  2738.770020  2713.040039  1039800   \n",
       " 2022-01-20  2758.239990  2662.889893  2730.280029  2670.129883  1096500   \n",
       " 2022-01-21  2695.209961  2600.020020  2660.239990  2601.840088  2087000   \n",
       " 2022-01-24  2615.570068  2492.839111  2520.550049  2607.439941  2764600   \n",
       " 2022-01-25  2586.770020  2527.560059  2568.709961  2534.709961  1791200   \n",
       " \n",
       "               Adj Close  \n",
       " Date                     \n",
       " 2017-01-26   832.150024  \n",
       " 2017-01-27   823.309998  \n",
       " 2017-01-30   802.320007  \n",
       " 2017-01-31   796.789978  \n",
       " 2017-02-01   795.695007  \n",
       " ...                 ...  \n",
       " 2022-01-19  2713.040039  \n",
       " 2022-01-20  2670.129883  \n",
       " 2022-01-21  2601.840088  \n",
       " 2022-01-24  2607.439941  \n",
       " 2022-01-25  2534.709961  \n",
       " \n",
       " [1259 rows x 6 columns]}"
      ]
     },
     "execution_count": 25,
     "metadata": {},
     "output_type": "execute_result"
    }
   ],
   "source": [
    "import pandas_datareader.data as web\n",
    "\n",
    "all_data = {ticker: web.get_data_yahoo(ticker)\n",
    "for ticker in ['AAPL', 'IBM', 'MSFT', 'GOOG']}\n",
    "\n",
    "all_data\n",
    "\n",
    "#Below data has 5 columns for each of four comanies: 'AAPL', 'IBM', 'MSFT', 'GOOG'"
   ]
  },
  {
   "cell_type": "markdown",
   "id": "2dbf8405",
   "metadata": {},
   "source": [
    "18. From above table Make two data frames: One for \"Adj Close\" for each brand, and other for \"Volume\" for each brand"
   ]
  },
  {
   "cell_type": "code",
   "execution_count": 22,
   "id": "9dc76d77",
   "metadata": {},
   "outputs": [
    {
     "name": "stdout",
     "output_type": "stream",
     "text": [
      "                  AAPL         IBM        MSFT         GOOG\n",
      "Date                                                       \n",
      "2017-01-26   28.694975  135.797852   59.756836   832.150024\n",
      "2017-01-27   28.697330  134.764175   61.160805   823.309998\n",
      "2017-01-30   28.622026  133.624039   60.556446   802.320007\n",
      "2017-01-31   28.556137  132.651093   60.110157   796.789978\n",
      "2017-02-01   30.297508  132.476288   59.115295   795.695007\n",
      "...                ...         ...         ...          ...\n",
      "2022-01-19  166.229996  131.580002  303.329987  2713.040039\n",
      "2022-01-20  164.509995  130.820007  301.600006  2670.129883\n",
      "2022-01-21  162.410004  129.350006  296.029999  2601.840088\n",
      "2022-01-24  161.619995  128.820007  296.369995  2607.439941\n",
      "2022-01-25  159.779999  136.100006  288.489990  2534.709961\n",
      "\n",
      "[1259 rows x 4 columns] \n",
      "\n",
      "                   AAPL         IBM        MSFT     GOOG\n",
      "Date                                                    \n",
      "2017-01-26  105350400.0   3204839.0  43554600.0  2973900\n",
      "2017-01-27   82251600.0   3642486.0  44818000.0  2965800\n",
      "2017-01-30  121510000.0   4283161.0  31651400.0  3246600\n",
      "2017-01-31  196804000.0   4329394.0  25270500.0  2160600\n",
      "2017-02-01  447940000.0   2924302.0  39671500.0  2029700\n",
      "...                 ...         ...         ...      ...\n",
      "2022-01-19   94815000.0   4103700.0  45933900.0  1039800\n",
      "2022-01-20   91420500.0   5278200.0  35380700.0  1096500\n",
      "2022-01-21  122501300.0   5905000.0  57118300.0  2087000\n",
      "2022-01-24  162706700.0  13777600.0  86035400.0  2764600\n",
      "2022-01-25  114972000.0  19700100.0  69838900.0  1791200\n",
      "\n",
      "[1259 rows x 4 columns]\n"
     ]
    }
   ],
   "source": [
    "price = pd.DataFrame({ticker: data['Adj Close']\n",
    "                      for ticker, data in all_data.items()})\n",
    "volume = pd.DataFrame({ticker: data['Volume']\n",
    "                        for ticker, data in all_data.items()})\n",
    "\n",
    "print(price,\"\\n\")\n",
    "print(volume)"
   ]
  },
  {
   "cell_type": "markdown",
   "id": "73871e75",
   "metadata": {},
   "source": [
    "19. We can observe that values are changing for each day in Price data set. Can we see the perecent change row wise?"
   ]
  },
  {
   "cell_type": "code",
   "execution_count": 27,
   "id": "ec8d86b1",
   "metadata": {},
   "outputs": [
    {
     "data": {
      "text/html": [
       "<div>\n",
       "<style scoped>\n",
       "    .dataframe tbody tr th:only-of-type {\n",
       "        vertical-align: middle;\n",
       "    }\n",
       "\n",
       "    .dataframe tbody tr th {\n",
       "        vertical-align: top;\n",
       "    }\n",
       "\n",
       "    .dataframe thead th {\n",
       "        text-align: right;\n",
       "    }\n",
       "</style>\n",
       "<table border=\"1\" class=\"dataframe\">\n",
       "  <thead>\n",
       "    <tr style=\"text-align: right;\">\n",
       "      <th></th>\n",
       "      <th>AAPL</th>\n",
       "      <th>IBM</th>\n",
       "      <th>MSFT</th>\n",
       "      <th>GOOG</th>\n",
       "    </tr>\n",
       "    <tr>\n",
       "      <th>Date</th>\n",
       "      <th></th>\n",
       "      <th></th>\n",
       "      <th></th>\n",
       "      <th></th>\n",
       "    </tr>\n",
       "  </thead>\n",
       "  <tbody>\n",
       "    <tr>\n",
       "      <th>2017-01-26</th>\n",
       "      <td>NaN</td>\n",
       "      <td>NaN</td>\n",
       "      <td>NaN</td>\n",
       "      <td>NaN</td>\n",
       "    </tr>\n",
       "    <tr>\n",
       "      <th>2017-01-27</th>\n",
       "      <td>0.000082</td>\n",
       "      <td>-0.007612</td>\n",
       "      <td>0.023495</td>\n",
       "      <td>-0.010623</td>\n",
       "    </tr>\n",
       "    <tr>\n",
       "      <th>2017-01-30</th>\n",
       "      <td>-0.002624</td>\n",
       "      <td>-0.008460</td>\n",
       "      <td>-0.009881</td>\n",
       "      <td>-0.025495</td>\n",
       "    </tr>\n",
       "    <tr>\n",
       "      <th>2017-01-31</th>\n",
       "      <td>-0.002302</td>\n",
       "      <td>-0.007281</td>\n",
       "      <td>-0.007370</td>\n",
       "      <td>-0.006893</td>\n",
       "    </tr>\n",
       "    <tr>\n",
       "      <th>2017-02-01</th>\n",
       "      <td>0.060981</td>\n",
       "      <td>-0.001318</td>\n",
       "      <td>-0.016551</td>\n",
       "      <td>-0.001374</td>\n",
       "    </tr>\n",
       "    <tr>\n",
       "      <th>...</th>\n",
       "      <td>...</td>\n",
       "      <td>...</td>\n",
       "      <td>...</td>\n",
       "      <td>...</td>\n",
       "    </tr>\n",
       "    <tr>\n",
       "      <th>2022-01-19</th>\n",
       "      <td>-0.021025</td>\n",
       "      <td>-0.010230</td>\n",
       "      <td>0.002247</td>\n",
       "      <td>-0.004685</td>\n",
       "    </tr>\n",
       "    <tr>\n",
       "      <th>2022-01-20</th>\n",
       "      <td>-0.010347</td>\n",
       "      <td>-0.005776</td>\n",
       "      <td>-0.005703</td>\n",
       "      <td>-0.015816</td>\n",
       "    </tr>\n",
       "    <tr>\n",
       "      <th>2022-01-21</th>\n",
       "      <td>-0.012765</td>\n",
       "      <td>-0.011237</td>\n",
       "      <td>-0.018468</td>\n",
       "      <td>-0.025575</td>\n",
       "    </tr>\n",
       "    <tr>\n",
       "      <th>2022-01-24</th>\n",
       "      <td>-0.004864</td>\n",
       "      <td>-0.004097</td>\n",
       "      <td>0.001149</td>\n",
       "      <td>0.002152</td>\n",
       "    </tr>\n",
       "    <tr>\n",
       "      <th>2022-01-25</th>\n",
       "      <td>-0.011385</td>\n",
       "      <td>0.056513</td>\n",
       "      <td>-0.026588</td>\n",
       "      <td>-0.027893</td>\n",
       "    </tr>\n",
       "  </tbody>\n",
       "</table>\n",
       "<p>1259 rows × 4 columns</p>\n",
       "</div>"
      ],
      "text/plain": [
       "                AAPL       IBM      MSFT      GOOG\n",
       "Date                                              \n",
       "2017-01-26       NaN       NaN       NaN       NaN\n",
       "2017-01-27  0.000082 -0.007612  0.023495 -0.010623\n",
       "2017-01-30 -0.002624 -0.008460 -0.009881 -0.025495\n",
       "2017-01-31 -0.002302 -0.007281 -0.007370 -0.006893\n",
       "2017-02-01  0.060981 -0.001318 -0.016551 -0.001374\n",
       "...              ...       ...       ...       ...\n",
       "2022-01-19 -0.021025 -0.010230  0.002247 -0.004685\n",
       "2022-01-20 -0.010347 -0.005776 -0.005703 -0.015816\n",
       "2022-01-21 -0.012765 -0.011237 -0.018468 -0.025575\n",
       "2022-01-24 -0.004864 -0.004097  0.001149  0.002152\n",
       "2022-01-25 -0.011385  0.056513 -0.026588 -0.027893\n",
       "\n",
       "[1259 rows x 4 columns]"
      ]
     },
     "execution_count": 27,
     "metadata": {},
     "output_type": "execute_result"
    }
   ],
   "source": [
    "returns = price.pct_change()\n",
    "returns\n",
    "#.pct_change is time series function to see row wise percent change"
   ]
  },
  {
   "cell_type": "markdown",
   "id": "b4314381",
   "metadata": {},
   "source": [
    "20. Find the correlation between \"MSFT\" AND \"IBM\" brand in returns column"
   ]
  },
  {
   "cell_type": "code",
   "execution_count": 30,
   "id": "1023f81f",
   "metadata": {},
   "outputs": [
    {
     "data": {
      "text/plain": [
       "0.4858059907751391"
      ]
     },
     "execution_count": 30,
     "metadata": {},
     "output_type": "execute_result"
    }
   ],
   "source": [
    "returns['MSFT'].corr(returns['IBM'])"
   ]
  },
  {
   "cell_type": "markdown",
   "id": "adee8e04",
   "metadata": {},
   "source": [
    "21. Find the covariance and covariance between \"MSFT\" AND \"IBM\" brand in returns column"
   ]
  },
  {
   "cell_type": "code",
   "execution_count": 40,
   "id": "f72fc340",
   "metadata": {},
   "outputs": [
    {
     "data": {
      "text/plain": [
       "0.00014123909979719753"
      ]
     },
     "execution_count": 40,
     "metadata": {},
     "output_type": "execute_result"
    }
   ],
   "source": [
    "returns['MSFT'].cov(returns['IBM'])"
   ]
  },
  {
   "cell_type": "markdown",
   "id": "1af4b1d4",
   "metadata": {},
   "source": [
    "22. Find the correlation among all columns in a data frame"
   ]
  },
  {
   "cell_type": "code",
   "execution_count": 39,
   "id": "4875ba5e",
   "metadata": {},
   "outputs": [
    {
     "name": "stdout",
     "output_type": "stream",
     "text": [
      "0.00014123909979719753 \n",
      "\n",
      "\n",
      "          AAPL       IBM      MSFT      GOOG\n",
      "AAPL  0.000371  0.000137  0.000248  0.000218\n",
      "IBM   0.000137  0.000278  0.000141  0.000131\n",
      "MSFT  0.000248  0.000141  0.000304  0.000233\n",
      "GOOG  0.000218  0.000131  0.000233  0.000293\n"
     ]
    }
   ],
   "source": [
    "print(returns['MSFT'].cov(returns['IBM']),\"\\n\"*2)\n",
    "\n",
    "print(returns.cov())"
   ]
  },
  {
   "cell_type": "markdown",
   "id": "4a3a0401",
   "metadata": {},
   "source": [
    "23. Find the correlation between same columns in two different datasets. Take returns and volume here"
   ]
  },
  {
   "cell_type": "code",
   "execution_count": 42,
   "id": "c053e08f",
   "metadata": {},
   "outputs": [
    {
     "data": {
      "text/plain": [
       "AAPL   -0.072102\n",
       "IBM    -0.128292\n",
       "MSFT   -0.077554\n",
       "GOOG   -0.114002\n",
       "dtype: float64"
      ]
     },
     "execution_count": 42,
     "metadata": {},
     "output_type": "execute_result"
    }
   ],
   "source": [
    "returns.corrwith(volume)"
   ]
  },
  {
   "cell_type": "code",
   "execution_count": null,
   "id": "bd442d52",
   "metadata": {},
   "outputs": [],
   "source": []
  }
 ],
 "metadata": {
  "kernelspec": {
   "display_name": "Python 3 (ipykernel)",
   "language": "python",
   "name": "python3"
  },
  "language_info": {
   "codemirror_mode": {
    "name": "ipython",
    "version": 3
   },
   "file_extension": ".py",
   "mimetype": "text/x-python",
   "name": "python",
   "nbconvert_exporter": "python",
   "pygments_lexer": "ipython3",
   "version": "3.8.8"
  }
 },
 "nbformat": 4,
 "nbformat_minor": 5
}
