{
 "cells": [
  {
   "cell_type": "markdown",
   "id": "57fb53a5",
   "metadata": {},
   "source": [
    "### LEVEL -1  Practice notebook. \n",
    "\n",
    "It covers all Commands, and methods to approach a Logic in the form of problems. Do regular visit this to understand and have hands on"
   ]
  },
  {
   "cell_type": "markdown",
   "id": "6a91ab00",
   "metadata": {},
   "source": [
    "1. Remove repeating chacaters form following string \n",
    "x  = \"Python is the best programming language\""
   ]
  },
  {
   "cell_type": "code",
   "execution_count": 140,
   "id": "37a71f48",
   "metadata": {},
   "outputs": [],
   "source": [
    "# x = \"Python is the best programming language\"\n",
    "# x = x.lower()\n",
    "# y = list(x)\n",
    "# z = []\n",
    "# for i in y:\n",
    "#     if y.count(i) > 1:\n",
    "#         y.remove(i)\n",
    "# for i in y:\n",
    "#     if y.count(i) > 1:\n",
    "#         y.remove(i)\n",
    "        \n",
    "# print(y)\n",
    "# for i in y:\n",
    "#     print(y.count(i))\n"
   ]
  },
  {
   "cell_type": "markdown",
   "id": "89cc1d25",
   "metadata": {},
   "source": [
    "2. Reverse a string."
   ]
  },
  {
   "cell_type": "code",
   "execution_count": 134,
   "id": "e315b5a9",
   "metadata": {},
   "outputs": [],
   "source": [
    "# x = input(\"Enter a string\")\n",
    "# x = x.lower()\n",
    "# y = x[::-1]\n",
    "# if x ==y:\n",
    "#     print(\"Its a palindrom\")\n",
    "# else:\n",
    "#     print(\"NO\")\n",
    "    "
   ]
  },
  {
   "cell_type": "markdown",
   "id": "fbb11115",
   "metadata": {},
   "source": [
    "3. Check it a string is a palindrome or not."
   ]
  },
  {
   "cell_type": "code",
   "execution_count": 135,
   "id": "3d48045e",
   "metadata": {},
   "outputs": [],
   "source": [
    "# x = input(\"Enter a string\")\n",
    "# x = x.lower()\n",
    "# x = list(x)\n",
    "# y =[]\n",
    "# for i in x:\n",
    "#     y.insert(0,i)\n",
    "# if x==y:\n",
    "#     print(\"Its a palindrom\")\n",
    "# else:\n",
    "#     print(\"NO\")\n",
    "    "
   ]
  },
  {
   "cell_type": "markdown",
   "id": "d55ce36e",
   "metadata": {},
   "source": [
    "4. Type a string and separates its odd and even character."
   ]
  },
  {
   "cell_type": "code",
   "execution_count": 136,
   "id": "e24218db",
   "metadata": {},
   "outputs": [],
   "source": [
    "# x = input(\"Enter a string\")\n",
    "# o = []\n",
    "# e = []\n",
    "# for i in x:\n",
    "#     if x.index(i)%2 == 0:\n",
    "#         e.append(i)\n",
    "#     else:\n",
    "#         o.append(i)\n",
    "\n",
    "# print(\"character at Odd string in your string are\",o )\n",
    "# print(\"character at even string in your string are\", e)"
   ]
  },
  {
   "cell_type": "markdown",
   "id": "d1c4975e",
   "metadata": {},
   "source": [
    "5. Write a string first and then write a program to check if an anput character exist in a string. If Yes. provide its index."
   ]
  },
  {
   "cell_type": "code",
   "execution_count": null,
   "id": "a6f4e30c",
   "metadata": {},
   "outputs": [],
   "source": [
    "# x  = \"Python is the best programming language\"\n",
    "# x  = x.lower()\n",
    "# y  = input(\"Enter your string \")\n",
    "# y  = y.lower()\n",
    "# if y in x:\n",
    "#     print(x.index(y))\n",
    "# else:\n",
    "#     print(\"This string does not found\")\n",
    "    \n",
    " "
   ]
  },
  {
   "cell_type": "markdown",
   "id": "d63dbecb",
   "metadata": {},
   "source": [
    "6. Make the same output that you can see below the follwing code"
   ]
  },
  {
   "cell_type": "code",
   "execution_count": 308,
   "id": "d1374a1f",
   "metadata": {},
   "outputs": [
    {
     "name": "stdout",
     "output_type": "stream",
     "text": [
      "Enter your number5\n",
      "11\n",
      "121\n",
      "1331\n",
      "14641\n",
      "161051\n"
     ]
    }
   ],
   "source": [
    "# number = int(input(\"Enter your number\"))\n",
    "# x = list(range(1,number+1))\n",
    "# for i in x:\n",
    "#     print(11**i)"
   ]
  },
  {
   "cell_type": "markdown",
   "id": "20441409",
   "metadata": {},
   "source": [
    "7. Create a function to write sum,add,mul,div for list:a  = [1,2,3,4,5]"
   ]
  },
  {
   "cell_type": "code",
   "execution_count": 204,
   "id": "2466b966",
   "metadata": {},
   "outputs": [],
   "source": [
    "# def maths(x,y):\n",
    "\n",
    "#     if (y == \"count\"):\n",
    "#         count = 0\n",
    "#         for i in x:\n",
    "#             count+=1\n",
    "#         return count\n",
    "        \n",
    "#     elif (y == \"add\"):\n",
    "#         a = [0]\n",
    "#         for i  in x:\n",
    "#             a= [a[0] + i]\n",
    "#         return a\n",
    " \n",
    "    \n",
    "#     elif (y == \"sub\"):\n",
    "#         s = [2*x[0]]\n",
    "#         for i  in x:\n",
    "#             s= [s[0] - i]\n",
    "#         return s\n",
    "    \n",
    "    \n",
    "#     elif (y == \"mul\"):\n",
    "#         m = [1]\n",
    "#         for i in x:\n",
    "#             m = [m[0]*i]\n",
    "#         return m\n",
    "    \n",
    "#     elif (y == \"div\"):\n",
    "#         d = [1/x[0]]\n",
    "#         for i  in x:\n",
    "#             d= [d[0]/ i]\n",
    "#         return d\n",
    "#     else:\n",
    "#         return \"NA\"\n"
   ]
  },
  {
   "cell_type": "markdown",
   "id": "1552ee66",
   "metadata": {},
   "source": [
    "8. Check if a given year is a leap year or not"
   ]
  },
  {
   "cell_type": "code",
   "execution_count": 16,
   "id": "3a35b5db",
   "metadata": {},
   "outputs": [],
   "source": [
    "# x = input(\"Enter your input: \")\n",
    "# x = int(x)\n",
    "# print(\"its a leap year\") if (x%400==0) or (x%4 == 0 and x%100!=0) else print(\"Its not a leap year\")"
   ]
  },
  {
   "cell_type": "markdown",
   "id": "09970b7b",
   "metadata": {},
   "source": [
    "9. Find minimum number in a list"
   ]
  },
  {
   "cell_type": "code",
   "execution_count": 138,
   "id": "aa2b3d39",
   "metadata": {},
   "outputs": [],
   "source": [
    "# x = [3,5,2,3,5,-1,4,7,5]\n",
    "# y=x[0]\n",
    "# for i in x:\n",
    "#     if i<y:\n",
    "#         y=i\n",
    "#     else:\n",
    "#         continue\n",
    "# print(y)"
   ]
  },
  {
   "cell_type": "markdown",
   "id": "b76c5d73",
   "metadata": {},
   "source": [
    "10. Find the median of a list."
   ]
  },
  {
   "cell_type": "code",
   "execution_count": 139,
   "id": "3c5de9c6",
   "metadata": {},
   "outputs": [],
   "source": [
    "# x = [1,2,2.5,3,4]\n",
    "# x = sorted(x)\n",
    "# if len(x)%2==1:\n",
    "#     print(x[int(((len(x)-2)/2)+1)])\n",
    "# elif len(x)%2==0:\n",
    "#     print((x[int(len(x)/2-1)] + x[int(len(x)/2)])/2)"
   ]
  },
  {
   "cell_type": "markdown",
   "id": "c07dcb9f",
   "metadata": {},
   "source": [
    "11. Make a pyarmid of n line with n star at last line"
   ]
  },
  {
   "cell_type": "code",
   "execution_count": 2,
   "id": "25b63158",
   "metadata": {},
   "outputs": [],
   "source": [
    "# number  = int(input(\"Enter your number\"))\n",
    "# x = list(range(1,number+1))\n",
    "# x = x[::-1]\n",
    "\n",
    "# f = x[0]\n",
    "# y=\" *\"\n",
    "# z=\" \"\n",
    "# v= \"*\"\n",
    "\n",
    "# for i in x:\n",
    "#     if i == f:\n",
    "#         print((i-2)*z,\" *\")\n",
    "#     else:\n",
    "#         print((i-1)*z,\"*\",x.index(i)*\" *\")\n",
    "        \n",
    "        "
   ]
  },
  {
   "cell_type": "markdown",
   "id": "d0d66301",
   "metadata": {},
   "source": [
    "12. Remove front and last space"
   ]
  },
  {
   "cell_type": "code",
   "execution_count": 133,
   "id": "d5966c09",
   "metadata": {},
   "outputs": [],
   "source": [
    "# x = \" l \"\n",
    "# x.strip()"
   ]
  },
  {
   "cell_type": "markdown",
   "id": "cadfb3fd",
   "metadata": {},
   "source": [
    "13. Divide with or without decimal  result"
   ]
  },
  {
   "cell_type": "code",
   "execution_count": 149,
   "id": "84ee2b37",
   "metadata": {},
   "outputs": [],
   "source": [
    "# print(4//2)\n",
    "# print(4/2)"
   ]
  },
  {
   "cell_type": "markdown",
   "id": "8fb379c7",
   "metadata": {},
   "source": [
    "14. Write a program to iterate the first 10 numbers and in each iteration, print the sum of the current and previous number"
   ]
  },
  {
   "cell_type": "code",
   "execution_count": 3,
   "id": "5269454f",
   "metadata": {},
   "outputs": [
    {
     "name": "stdout",
     "output_type": "stream",
     "text": [
      "Printing current and previous number sum in a range(10)\n",
      "Current Number  0 Previous Number  0 Sum :   0\n",
      "Current Number  1 Previous Number  0 Sum :   1\n",
      "Current Number  2 Previous Number  1 Sum :   3\n",
      "Current Number  3 Previous Number  2 Sum :   5\n",
      "Current Number  4 Previous Number  3 Sum :   7\n",
      "Current Number  5 Previous Number  4 Sum :   9\n",
      "Current Number  6 Previous Number  5 Sum :   11\n",
      "Current Number  7 Previous Number  6 Sum :   13\n",
      "Current Number  8 Previous Number  7 Sum :   15\n",
      "Current Number  9 Previous Number  8 Sum :   17\n"
     ]
    }
   ],
   "source": [
    "# x= list(range(0,10))\n",
    "# print(\"Printing current and previous number sum in a range(10)\")\n",
    "# for i in x:\n",
    "    \n",
    "#     if i == 0:\n",
    "#         print(\"Current Number \",i, \"Previous Number \",0, \"Sum :  \", x[0])\n",
    "#     else:\n",
    "#         print(\"Current Number \",i, \"Previous Number \",x[int(x.index(i))-1], \"Sum :  \", i + int(x.index(i)-1))\n",
    "        "
   ]
  },
  {
   "cell_type": "markdown",
   "id": "19375d18",
   "metadata": {},
   "source": [
    "15. Print characters from a string that are present at an even index number. For example, string = \"pynative\" so you should display ‘p’, ‘n’, ‘t’, ‘v’.\n"
   ]
  },
  {
   "cell_type": "code",
   "execution_count": 296,
   "id": "e20d1ef5",
   "metadata": {},
   "outputs": [],
   "source": [
    "# string = \"pynative\"\n",
    "# string = list(string)\n",
    "# even_string = []\n",
    "# for i in string:\n",
    "#     if string.index(i)%2==0:\n",
    "#         even_string.append(i)\n",
    "#     else:\n",
    "#         pass\n",
    "# print(even_string)"
   ]
  },
  {
   "cell_type": "markdown",
   "id": "db470f41",
   "metadata": {},
   "source": [
    "16. Write a program to remove characters from a string starting from zero up to n and return a new string. For example, string = \"pynative\""
   ]
  },
  {
   "cell_type": "code",
   "execution_count": 297,
   "id": "5def351f",
   "metadata": {},
   "outputs": [],
   "source": [
    "# x = \"pynative\"\n",
    "# n = int(input(\"Enter a number\"))\n",
    "# x[4:]"
   ]
  },
  {
   "cell_type": "markdown",
   "id": "4b6b2ab5",
   "metadata": {},
   "source": [
    "17. Return the count of a given substring from a string. x = \"Emma is good developer. Emma is a writer\""
   ]
  },
  {
   "cell_type": "code",
   "execution_count": 306,
   "id": "a4f587f6",
   "metadata": {},
   "outputs": [],
   "source": [
    "# x = \"Emma is good developer. Emma is a writer\"\n",
    "# x.count(\"Emma\")"
   ]
  },
  {
   "cell_type": "markdown",
   "id": "c0bc5fbb",
   "metadata": {},
   "source": [
    "18. Print the following pattern in vertical:\n",
    "1\n",
    "22\n",
    "333\n",
    "4444"
   ]
  },
  {
   "cell_type": "code",
   "execution_count": 3,
   "id": "196f1b4a",
   "metadata": {},
   "outputs": [],
   "source": [
    "# x = input(\"Enter your input: \")\n",
    "# x = int(x)\n",
    "# x = list(range(1,x+1))\n",
    "# y = \"1\"\n",
    "\n",
    "# for i in x:\n",
    "#     print(y*i)\n",
    "#     y = str(i+1)"
   ]
  },
  {
   "cell_type": "markdown",
   "id": "1298eb9c",
   "metadata": {},
   "source": [
    "19. Check if a number is a Palindrome Number"
   ]
  },
  {
   "cell_type": "code",
   "execution_count": 36,
   "id": "1df88f46",
   "metadata": {},
   "outputs": [],
   "source": [
    "# x = \"121\"\n",
    "# y = x[::-1]\n",
    "# if x == y:\n",
    "#     print(\"Its a palindrome\")\n",
    "# else:\n",
    "#     print(\"Its not a palindorme\")"
   ]
  },
  {
   "cell_type": "markdown",
   "id": "0e4075ca",
   "metadata": {},
   "source": [
    "20. Comparing  each term of a list with each other - Find the greates interger in list x\n"
   ]
  },
  {
   "cell_type": "code",
   "execution_count": 5,
   "id": "25bb96db",
   "metadata": {},
   "outputs": [],
   "source": [
    "# x=[2,3,34,45,32,100,45,200,4,2,12]\n",
    "\n",
    "\n",
    "# temp_large = x[0]\n",
    "# for i in x:\n",
    "#     if temp_large >i:\n",
    "#         continue \n",
    "#         print(temp_large)\n",
    "#     else:\n",
    "#         temp_large =i\n",
    "# temp_large\n",
    "    "
   ]
  },
  {
   "cell_type": "markdown",
   "id": "d598735d",
   "metadata": {},
   "source": [
    "21. Art of counting value from a loop using initialising a list and appending it - Find how many odd and even numbers are in list x"
   ]
  },
  {
   "cell_type": "code",
   "execution_count": 5,
   "id": "862f6ae1",
   "metadata": {},
   "outputs": [],
   "source": [
    "#x=[2,3,5,6,7,87,8]\n",
    "\n",
    "#By Appending\n",
    "# even = []\n",
    "# odd = []\n",
    "# for i in x:\n",
    "#     if i%2 == 0:\n",
    "#         even.append(i)    \n",
    "#     if i%2 != 0:\n",
    "#         odd.append(i)\n",
    "        \n",
    "# print(\"Numbe of Even values = \", len(even))\n",
    "# print(\"Numbe of odd values = \", len(odd))\n",
    "\n",
    "#OR\n",
    "\n",
    "\n",
    "#By increasing count\n",
    "# even = O\n",
    "# odd = O\n",
    "# for i in x:\n",
    "#     if i%2 == 0:\n",
    "#         even+=1    \n",
    "#     if i%2 != 0:\n",
    "#         odd+=1\n",
    "        \n",
    "# print(\"Numbe of Even values = \", even)\n",
    "# print(\"Numbe of odd values = \", odd)\n"
   ]
  },
  {
   "cell_type": "markdown",
   "id": "369c5b9e",
   "metadata": {},
   "source": [
    "22. Example of using logics - Can you make a rock, scissor, paper Game?"
   ]
  },
  {
   "cell_type": "code",
   "execution_count": 6,
   "id": "c313babe",
   "metadata": {},
   "outputs": [],
   "source": [
    "space = [\"r\",\"s\",\"p\"]\n",
    "\n",
    "# import random \n",
    "# space = [\"r\",\"s\",\"p\"]\n",
    "# computer = random.sample(space,1)[0]    #How to select a random chaacter from a list\n",
    "# user = input(\"Please choose\")\n",
    "# while computer == user:                  #When while loop condtion does not meet, the coe automatically goes to next line.\n",
    "#     computer = random.sample(space,1)[0]\n",
    "#     user = input(\"Tie, Please choose again\")\n",
    "# if space.index(user)<space.index(computer) | (user == \"p\" and computer == \"r\"):\n",
    "#     print(\"You Win\")\n",
    "# else:\n",
    "#     print(\"You lose\")"
   ]
  },
  {
   "cell_type": "markdown",
   "id": "4f9df65e",
   "metadata": {},
   "source": [
    "23. Finding the type of a character in a string - How many numbers, letters and punctuation are there in x = \"Python3.7\" "
   ]
  },
  {
   "cell_type": "code",
   "execution_count": 7,
   "id": "84cdf43d",
   "metadata": {},
   "outputs": [],
   "source": [
    "# x = \"Python3.7\"\n",
    "\n",
    "# #Lets initialise first\n",
    "# Letters = []\n",
    "# numbers = []\n",
    "# punctuations = []\n",
    "\n",
    "# for i in x:\n",
    "#     if i.isalpha():\n",
    "#         Letters.append(i)\n",
    "#     elif i.isnumeric():\n",
    "#         numbers.append(i)\n",
    "#     else:\n",
    "#         punctuations.append(i)\n",
    "\n",
    "# print(Letters)\n",
    "# print(numbers)\n",
    "# print(punctuations)"
   ]
  },
  {
   "cell_type": "markdown",
   "id": "cf7cce9f",
   "metadata": {},
   "source": [
    "24. General output with input command - Create a General Table for any interger."
   ]
  },
  {
   "cell_type": "code",
   "execution_count": 8,
   "id": "28c2488d",
   "metadata": {},
   "outputs": [],
   "source": [
    "# digit = int(input(\"Please write a number\"))\n",
    "# for i in range(1,11):\n",
    "#     print(digit,\"*\",i, \"=\" ,digit*i)"
   ]
  },
  {
   "cell_type": "markdown",
   "id": "c6445d4a",
   "metadata": {},
   "source": [
    "25. Making a list from an interger. a = 371, and then convert the same list to an integer again."
   ]
  },
  {
   "cell_type": "code",
   "execution_count": 11,
   "id": "b3171065",
   "metadata": {},
   "outputs": [],
   "source": [
    "# Digit > String > List\n",
    "# List > string > digit\n",
    "\n",
    "#a = 371\n",
    "# a = str(a)\n",
    "# a = map(int,a) #Convert each character of `digit_string` to an integer\n",
    "# a = list(a)\n",
    "# a\n",
    "\n",
    "##OR\n",
    "#x = [int(P) for P in str(num)] #Shortcut\n",
    "#print(x)\n",
    "\n",
    "\n",
    "\n",
    "# #Now converting to an integer\n",
    "\n",
    "# b = [str(element) for element in a]\n",
    "# b = \"\".join(b)\n",
    "# b = int(b)\n",
    "# b"
   ]
  },
  {
   "cell_type": "markdown",
   "id": "f5e4dbd1",
   "metadata": {},
   "source": [
    "26. How to add mutiple, divide, add substract among elemts of a list: x = [1,2,3,4]? Basically how to apply any operation in each elemnt of list?"
   ]
  },
  {
   "cell_type": "code",
   "execution_count": 10,
   "id": "4b308723",
   "metadata": {},
   "outputs": [],
   "source": [
    "# x = [1,2,3,4]\n",
    "# x_add5 = [number+5 for number in x]\n",
    "# x_mul = [number*5 for number in x]\n",
    "# x_power = [number**2 for number in x]\n"
   ]
  },
  {
   "cell_type": "markdown",
   "id": "b5b37c26",
   "metadata": {},
   "source": [
    "27. A three digit number is said to be an “Armstrong number” if the sum of the third power of its\n",
    "individual digits is equal to the number itself.\n",
    "Example: 371 is an Armstrong number as 371 = 3 3 + 7 3 + 1 3\n",
    "407 is an Armstrong number as 407 = 4 3 + 0 3 + 7 3\n",
    "Write a pseudo-code to check whether a given three digit number is an Armstrong number."
   ]
  },
  {
   "cell_type": "code",
   "execution_count": 14,
   "id": "c416318f",
   "metadata": {},
   "outputs": [],
   "source": [
    "# x = int(input(\"Enter your number\"))\n",
    "# while x != abs(x):\n",
    "#     x = int(input(\"Only +ve number are acceptable, please eneter again\"))\n",
    "# y = str(x)\n",
    "# y = map(int,y)           #This is a method of mapping each item of a string into integer.\n",
    "# y = list(y)\n",
    "\n",
    "# print(\"your number is Armstrong\") if x == sum([number**3 for number in y]) else print(\"No its not Armstrong\")\n",
    "\n",
    "# print(\"minumun digit in your three digit number was: \", min(y))\n",
    "    "
   ]
  },
  {
   "cell_type": "markdown",
   "id": "4f295662",
   "metadata": {},
   "source": [
    "28. Make a class with First name, last name and salary attributes in constructor, and recal first name and a method that returns frll name"
   ]
  },
  {
   "cell_type": "code",
   "execution_count": 2,
   "id": "faee9315",
   "metadata": {},
   "outputs": [],
   "source": [
    "# class Employee:\n",
    "#     def __init__(self,first,last,salary):\n",
    "#         self.first_name = first\n",
    "#         self.last_name = last\n",
    "#         self.salary = salary\n",
    "#         self.email = first+\".\"+last+\"@gmail.com\"\n",
    "        \n",
    "#     def fullname(self):\n",
    "#         return \"{},{}\".format(self.last_name,self.first_name)\n",
    "        \n",
    "# employee1 = Employee(\"Peng\",\"Xie\",\"100000\")\n",
    "# print(employee1.first_name) \n",
    "# print(employee1.salary)\n",
    "\n",
    "# print(employee1.fullname())"
   ]
  },
  {
   "cell_type": "markdown",
   "id": "5c9dcda8",
   "metadata": {},
   "source": [
    "29. Use List Comrehension method to make a sublist with letter \"a\" in x = [\"apple\", \"banana\", \"cherry\", \"kiwi\", \"mango\"]29. "
   ]
  },
  {
   "cell_type": "code",
   "execution_count": 1,
   "id": "2b639205",
   "metadata": {},
   "outputs": [],
   "source": [
    "# y = [i for i in x if \"a\" in i] # y = [\"Waht do you want\" \"for i n x\" \"condition\"]\n",
    "# y"
   ]
  },
  {
   "cell_type": "markdown",
   "id": "750a663d",
   "metadata": {},
   "source": [
    "30. Find permutation of list x = [1,2,3,4] without repitation and with repitation"
   ]
  },
  {
   "cell_type": "code",
   "execution_count": 16,
   "id": "f356c019",
   "metadata": {},
   "outputs": [],
   "source": [
    "# x= [1,2,3,4]\n",
    "\n",
    "# import itertools as it\n",
    "\n",
    "# per = list(it.permutations(x,2))  #Use it.permutations for non repeating perumtation\n",
    "# print(per)\n",
    "\n",
    "# rep_per = list(it.product(x,repeat = 2)) #use it.product for repeating permutations\n",
    "# print(rep_per)\n"
   ]
  },
  {
   "cell_type": "code",
   "execution_count": null,
   "id": "243aac33",
   "metadata": {},
   "outputs": [],
   "source": []
  },
  {
   "cell_type": "raw",
   "id": "15ce9d5e",
   "metadata": {},
   "source": [
    "31. Length, breadth, and height of a cuboid are 2,3,4 placed at origin. Make a list of all possible integer coordinate points first with list comprehension method and then loop method."
   ]
  },
  {
   "cell_type": "code",
   "execution_count": 41,
   "id": "6ea0aa95",
   "metadata": {},
   "outputs": [],
   "source": [
    "# l=2\n",
    "# b=3\n",
    "# h=4\n",
    "\n",
    "# coodrinates = [[i,j,k] for i in list(range(0,l+1)) for j in list(range(0,b+1)) for k in list(range(0,h+1))]\n",
    "# print(coodrinates)\n",
    "\n",
    "##OR By using loop:\n",
    "\n",
    "# coodrinates = []\n",
    "\n",
    "# for i in list(range(0,l+1)):\n",
    "#     for j in list(range(0,b+1)):\n",
    "#         for k in list(range(0,h+1)):\n",
    "#             coodrinates.append([i,j,k])\n",
    "        \n",
    "# print(coodrinates)"
   ]
  },
  {
   "cell_type": "code",
   "execution_count": null,
   "id": "08e84f66",
   "metadata": {},
   "outputs": [],
   "source": []
  }
 ],
 "metadata": {
  "kernelspec": {
   "display_name": "Python 3",
   "language": "python",
   "name": "python3"
  },
  "language_info": {
   "codemirror_mode": {
    "name": "ipython",
    "version": 3
   },
   "file_extension": ".py",
   "mimetype": "text/x-python",
   "name": "python",
   "nbconvert_exporter": "python",
   "pygments_lexer": "ipython3",
   "version": "3.8.8"
  }
 },
 "nbformat": 4,
 "nbformat_minor": 5
}
