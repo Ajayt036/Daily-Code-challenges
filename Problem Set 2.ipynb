{
 "cells": [
  {
   "cell_type": "markdown",
   "id": "c3b2c11d",
   "metadata": {},
   "source": [
    "### Below Problems cover important functions, logic, and methods to approach a problems. Do regular visit of this file to understand the concepts and have hands on."
   ]
  },
  {
   "cell_type": "markdown",
   "id": "2a3a39bb",
   "metadata": {},
   "source": [
    "1. All the built-in functions in the math module of python 3.7 can be found here:\n",
    "https://docs.python.org/3.7/library/math.html\n",
    "\n",
    "    - Create a program that reads two integers, a and b, from the user. \n",
    "    - The quotient when a is divided by b\n",
    "    - The remainder when a is divided by b\n",
    "    - The result of base-10, base-e, and base-2 logarithm of a\n",
    "    - The result of a^b \n",
    "    - The result of e^a"
   ]
  },
  {
   "cell_type": "code",
   "execution_count": null,
   "id": "53478a34",
   "metadata": {},
   "outputs": [],
   "source": [
    "a = int(input(\"Enter first number\"))\n",
    "b = int(input(\"Enter second number\"))\n",
    "\n",
    "#Quotient and Remainder\n",
    "print(\"quotient: \",a/b)\n",
    "print(\"remainder: \", a%b)\n",
    "\n",
    "\n",
    "\n",
    "#import maths library for log and exp functional\n",
    "from math import log, log10, exp, e\n",
    "#The result of base-10, base-e, and base-2 logarithm of a\n",
    "print (\"The base 10 logarithm of\", a, \"is\", log10(a))\n",
    "print (\"The base e logarithm of\",a, \"is\",log(a))\n",
    "print (\"The base \"+str(b)+\" logarithm of\",a, \"is\", log(a,b))\n",
    "\n",
    "\n",
    "#Power and exponential\n",
    "print(\"a^b :\", pow(a,b))\n",
    "print(\"e^a :\", exp(a))\n"
   ]
  },
  {
   "cell_type": "markdown",
   "id": "b0f52bda",
   "metadata": {},
   "source": [
    "2. What is the use of **\"%6.2f\"** Command. Give Example."
   ]
  },
  {
   "cell_type": "code",
   "execution_count": null,
   "id": "98e8cc5d",
   "metadata": {},
   "outputs": [],
   "source": [
    "#It is a command to writre float in a clean manner in out put. it indicated 6 spaces in beginning and upto 2 decimal\n",
    "#For Example :-\n",
    "\n",
    "x = 5\n",
    "y = 1.11\n",
    "\n",
    "print(\"Usual Output:\")\n",
    "print(x)\n",
    "print(y)\n",
    "\n",
    "\n",
    "#Cleanl output of x and y using 6.2f\n",
    "print(\"Clean Output:\")\n",
    "print (\"%1.2f\" % x)  \n",
    "print (\"%1.2f\" % y)"
   ]
  },
  {
   "cell_type": "markdown",
   "id": "a0642035",
   "metadata": {},
   "source": [
    "3. A bakery sells loaves of bread for 3.49 each. Day old bread is discounted by 60%. This program begins by reading the number of loaves of day-old bread purchased from the user. Then the program display the regular price, the discount, and the total price. All the values should be displayed using two decimal places, and the decimal points in all the numbers should be aligned when reasonable values are entered by the user."
   ]
  },
  {
   "cell_type": "code",
   "execution_count": 263,
   "id": "e6129fdf",
   "metadata": {},
   "outputs": [
    {
     "name": "stdout",
     "output_type": "stream",
     "text": [
      "Enter the number of loaves you want to buy: 3\n",
      "Regular Price:  10.47\n",
      "Discount:        1.80\n",
      "Total Price:     8.67\n"
     ]
    }
   ],
   "source": [
    "loaf_Price = 3.49\n",
    "Discount_rate = 0.60\n",
    "loaves = int(input(\"Enter the number of loaves you want to buy: \"))\n",
    "\n",
    "Regular_Price = loaf_Price*loaves\n",
    "Discount  = Discount_rate*loaves\n",
    "Total_Price = Regular_Price - Discount\n",
    "\n",
    "\n",
    "print(\"Regular Price: %6.2f\" % Regular_Price)  #\"6.2f helps in woritng float in a clean way vertically\"\n",
    "print(\"Discount:      %6.2f\" % Discount)\n",
    "print(\"Total Price:   %6.2f\" % Total_Price)"
   ]
  },
  {
   "cell_type": "markdown",
   "id": "6effaabd",
   "metadata": {},
   "source": [
    "4. This program reads a letter of the alphabet from the user. If the user enters something other than a letter, the program displays an error message. If the user enters 'a, 'e', 'i', 'o', 'u', 'A', 'E', 'I', 'O', or 'U', the program displays a message indicating that the letter enters is a vowel. If the user enters 'y' or 'Y', the program should display a message indicating that sometimes y is a vowel, and sometimes y is a consonant. Otherwise, display a message indicating that the letter is a consonant.\n",
    "\n",
    "Remark: Make use of string.ascii_lowercase, string.ascii_uppercase, or string.letters from the string module\n",
    "\n",
    "Remark: Use \"in\" operator in Python. For example, \"x\" in \"xyz\" is True; \"X\" in \"xyz\" is False.\n",
    "\n",
    "Remark: It is always a good idea to check the Python (2.7) documentation at: https://docs.python.org/2/library/index.html"
   ]
  },
  {
   "cell_type": "code",
   "execution_count": 264,
   "id": "53935edb",
   "metadata": {},
   "outputs": [
    {
     "name": "stdout",
     "output_type": "stream",
     "text": [
      "Please enter a letter from the alphabet: S\n",
      "S is a consonant\n"
     ]
    }
   ],
   "source": [
    "#We cam inport string library which has all the string stored: In lower case, Upper case and both\n",
    "\n",
    "import string\n",
    "alphabet = string.ascii_letters\n",
    "\n",
    "vowels = \"aeiouAEIOU\"\n",
    "\n",
    "\n",
    "letter = input(\"Please enter a letter from the alphabet: \")\n",
    "if letter not in alphabet:\n",
    "    print(\"Incorrrect Input Given\")\n",
    "elif letter in vowels:\n",
    "    print(letter, \"is a vowel\")\n",
    "elif letter == 'y' or letter ==\"Y\":\n",
    "    print (\"sometimes\", letter, \"is a vowel, and sometimes\", letter, \"is a consonant.\")\n",
    "else:\n",
    "    print(letter,\"is a consonant\")\n",
    "\n",
    "    "
   ]
  },
  {
   "cell_type": "markdown",
   "id": "9d8cf891",
   "metadata": {},
   "source": [
    "5. Write a short Python function that counts the number of vowels in a given character string."
   ]
  },
  {
   "cell_type": "code",
   "execution_count": 267,
   "id": "9a172837",
   "metadata": {},
   "outputs": [
    {
     "name": "stdout",
     "output_type": "stream",
     "text": [
      "Please enter a word: Python\n",
      "Total Vowels:  1\n"
     ]
    }
   ],
   "source": [
    "import string\n",
    "alphabet = string.ascii_letters\n",
    "\n",
    "vowels = \"aeiouAEIOU\"\n",
    "letter = input(\"Please enter a word: \")\n",
    "count = 0\n",
    "for i in letter:\n",
    "    if i in vowels:\n",
    "        count +=1\n",
    "    else:\n",
    "        pass\n",
    "print(\"Total Vowels: \",count)\n"
   ]
  },
  {
   "cell_type": "markdown",
   "id": "4e061299",
   "metadata": {},
   "source": [
    "6. A particular retailer is having a 60% off sale on a variety of discontinued products.\n",
    "- The retailer would like to help its customers determine the reduced price of the merchandise by having a printed discount table on the shelf that shows the original prices and the prices after the discount has been applied.\n",
    "- Write a program that uses a loop to generate this table, showing the original price, the discount amount, and the new price for purchases of:\n",
    "<br>\n",
    "4.95, 9.95, 14.95, 19.95, and 24.95\n",
    "- Ensure that the discount amounts and the new prices are rounded to 2 decimal places when they are displayed.\n",
    "\n",
    "\n",
    "\n"
   ]
  },
  {
   "cell_type": "code",
   "execution_count": 268,
   "id": "6546bc75",
   "metadata": {},
   "outputs": [
    {
     "name": "stdout",
     "output_type": "stream",
     "text": [
      "original price   Discount price   new price\n",
      "        4.95         2.97         1.98\n",
      "        9.95         5.97         3.98\n",
      "       14.95         8.97         5.98\n",
      "       19.95        11.97         7.98\n",
      "       24.95        14.97         9.98\n",
      "original price   discount price   new price\n",
      "        4.95         2.97         1.98\n",
      "        9.95         5.97         3.98\n",
      "       14.95         8.97         5.98\n",
      "       19.95        11.97         7.98\n",
      "       24.95        14.97         9.98\n"
     ]
    }
   ],
   "source": [
    "#First Method:\n",
    "Original_Price = [4.95, 9.95, 14.95, 19.95, 24.95]\n",
    "Discount_rate = 0.60\n",
    "\n",
    "print (\"original price \",\" Discount price \",\" new price\")\n",
    "\n",
    "for i in Original_Price:\n",
    "    Discount = Discount_rate*i\n",
    "    New_Price= (1-Discount_rate)*i\n",
    "    print(\"%12.2f\" % i ,\"%12.2f\" % Discount, \"%12.2f\" % New_Price)\n",
    "    \n",
    "    \n",
    "    \n",
    "#Second Method:\n",
    "Price_List= [4.95,9.95, 14.95,19.95,24.95]\n",
    "Discount = 0.6\n",
    "j=0\n",
    "print (\"original price \",\" discount price \",\" new price\")\n",
    "\n",
    "while j < len(Price_List) :\n",
    "    Dis_Amount=Price_List[j] * Discount\n",
    "    new_price=Price_List[j]-Dis_Amount\n",
    "    print (\"%12.2f\"%Price_List[j],\"%12.2f\"%Dis_Amount,\"%12.2f\"%new_price )\n",
    "    j+=1\n"
   ]
  },
  {
   "cell_type": "markdown",
   "id": "85e12a07",
   "metadata": {},
   "source": [
    "7. A string is a palindrome if it is identical forward and backward. For example \"anna\", \"civic\", \"level\" and \"hannah\" are all examples of palindromic words. Write a program that reads a string from the user and uses a loop to determine whether or not it is a palindrome. \n",
    "\n",
    "- Write program using both while and for Loop\n"
   ]
  },
  {
   "cell_type": "code",
   "execution_count": 269,
   "id": "d12e24bf",
   "metadata": {},
   "outputs": [
    {
     "name": "stdout",
     "output_type": "stream",
     "text": [
      "Please enter a word: Python\n",
      "Python is not a palindrome.\n",
      "Python is not a palindrome.\n"
     ]
    }
   ],
   "source": [
    "#WHILE LOOP:\n",
    "word = input(\"Please enter a word: \")\n",
    "i = 0\n",
    "while i < int(len(word)/2):  # just need to check whether the first half matches the second half.\n",
    "    if word.lower()[i] != word.lower()[-1-i]: # not case-sensitive\n",
    "        print (word, \"is not a palindrome.\")        \n",
    "        break # get out of the loop and done\n",
    "    else:\n",
    "        i+=1 # check the next one\n",
    "    if i == int(len(word)/2):  \n",
    "        print (word, \"is a palindrome.\")\n",
    "        \n",
    "        \n",
    "#USING FOR LOOP\n",
    "for i in range(int(len(word)/2)):\n",
    "    if word.lower()[i] != word.lower()[-1-i]:\n",
    "        print (word, \"is not a palindrome.\")\n",
    "        break\n",
    "    elif i==int(len(word)/2)-1:\n",
    "        print (word, \"is a palindrome.\")\n",
    "    "
   ]
  },
  {
   "cell_type": "code",
   "execution_count": null,
   "id": "1668c803",
   "metadata": {},
   "outputs": [],
   "source": []
  }
 ],
 "metadata": {
  "kernelspec": {
   "display_name": "Python 3 (ipykernel)",
   "language": "python",
   "name": "python3"
  },
  "language_info": {
   "codemirror_mode": {
    "name": "ipython",
    "version": 3
   },
   "file_extension": ".py",
   "mimetype": "text/x-python",
   "name": "python",
   "nbconvert_exporter": "python",
   "pygments_lexer": "ipython3",
   "version": "3.8.8"
  }
 },
 "nbformat": 4,
 "nbformat_minor": 5
}
